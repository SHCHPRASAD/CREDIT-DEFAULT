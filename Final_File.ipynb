{
 "cells": [
  {
   "cell_type": "markdown",
   "id": "7a221fa0",
   "metadata": {},
   "source": [
    "# Problem Statement\n",
    "Credit Card Defaulter Prediction\n",
    "Predict which customer might default in upcoming months. We are all aware what is credit card. It is type of payment payment card in which charges are made against a line of credit instead of the account holder's cash deposits. When someone uses a credit card to make a purchase, that person's account accrues a balance that must be paid off each month.\n",
    "\n",
    "Credit card default happens when you have become severely delinquent on your credit card payments.Missing credit card payments once or twice does not count as a default. A payment default occurs when you fail to pay the Minimum Amount Due on the credit card for a few consecutive months."
   ]
  },
  {
   "cell_type": "code",
   "execution_count": 1,
   "id": "eee386d4",
   "metadata": {},
   "outputs": [],
   "source": [
    "import pandas as pd\n",
    "import numpy as np\n",
    "import matplotlib.pyplot as plt\n",
    "import seaborn as sns\n",
    "import warnings\n",
    "warnings.filterwarnings('ignore')\n",
    "\n",
    "from scipy import stats\n",
    "import statsmodels.api as sm\n",
    "\n",
    "from sklearn.model_selection import train_test_split\n",
    "from sklearn.preprocessing import StandardScaler\n",
    "from sklearn.preprocessing import FunctionTransformer\n",
    "\n",
    "from sklearn import metrics\n",
    "from sklearn.metrics  import classification_report,cohen_kappa_score,confusion_matrix,accuracy_score,roc_curve\n",
    "\n",
    "from sklearn.linear_model import LogisticRegression\n",
    "from sklearn.tree import DecisionTreeClassifier\n",
    "from sklearn.ensemble import RandomForestClassifier\n",
    "from sklearn.ensemble import AdaBoostClassifier\n",
    "from sklearn.ensemble import GradientBoostingClassifier\n",
    "from xgboost import XGBClassifier\n",
    "from sklearn.neighbors import KNeighborsClassifier\n",
    "from sklearn.naive_bayes import GaussianNB\n",
    "\n",
    "from sklearn.model_selection import GridSearchCV\n",
    "\n",
    "\n",
    "from imblearn.over_sampling import SMOTE\n",
    "\n",
    "#import RFE for feature elimination\n",
    "\n",
    "from sklearn.feature_selection import RFE\n",
    "from imblearn.over_sampling import RandomOverSampler"
   ]
  },
  {
   "cell_type": "code",
   "execution_count": 2,
   "id": "37e87aff",
   "metadata": {},
   "outputs": [],
   "source": [
    "df=pd.read_csv('dataset.csv',)\n",
    "pd.set_option('display.max_columns', None)"
   ]
  },
  {
   "cell_type": "code",
   "execution_count": 3,
   "id": "aad4749b",
   "metadata": {},
   "outputs": [
    {
     "data": {
      "text/html": [
       "<div>\n",
       "<style scoped>\n",
       "    .dataframe tbody tr th:only-of-type {\n",
       "        vertical-align: middle;\n",
       "    }\n",
       "\n",
       "    .dataframe tbody tr th {\n",
       "        vertical-align: top;\n",
       "    }\n",
       "\n",
       "    .dataframe thead th {\n",
       "        text-align: right;\n",
       "    }\n",
       "</style>\n",
       "<table border=\"1\" class=\"dataframe\">\n",
       "  <thead>\n",
       "    <tr style=\"text-align: right;\">\n",
       "      <th></th>\n",
       "      <th>credit_limit</th>\n",
       "      <th>gender</th>\n",
       "      <th>education</th>\n",
       "      <th>marital_status</th>\n",
       "      <th>age</th>\n",
       "      <th>timeliness_1</th>\n",
       "      <th>timeliness_2</th>\n",
       "      <th>timeliness_3</th>\n",
       "      <th>timeliness_4</th>\n",
       "      <th>timeliness_5</th>\n",
       "      <th>timeliness_6</th>\n",
       "      <th>balance_1</th>\n",
       "      <th>balance_2</th>\n",
       "      <th>balance_3</th>\n",
       "      <th>balance_4</th>\n",
       "      <th>balance_5</th>\n",
       "      <th>balance_6</th>\n",
       "      <th>payment_1</th>\n",
       "      <th>payment_2</th>\n",
       "      <th>payment_3</th>\n",
       "      <th>payment_4</th>\n",
       "      <th>payment_5</th>\n",
       "      <th>payment_6</th>\n",
       "      <th>avg_balance</th>\n",
       "      <th>avg_payment</th>\n",
       "      <th>default</th>\n",
       "    </tr>\n",
       "  </thead>\n",
       "  <tbody>\n",
       "    <tr>\n",
       "      <th>0</th>\n",
       "      <td>20000</td>\n",
       "      <td>female</td>\n",
       "      <td>uni</td>\n",
       "      <td>married</td>\n",
       "      <td>24</td>\n",
       "      <td>m+2</td>\n",
       "      <td>m+2</td>\n",
       "      <td>m-1</td>\n",
       "      <td>m-1</td>\n",
       "      <td>m-2</td>\n",
       "      <td>m-2</td>\n",
       "      <td>3913</td>\n",
       "      <td>3102</td>\n",
       "      <td>689</td>\n",
       "      <td>0</td>\n",
       "      <td>0</td>\n",
       "      <td>0</td>\n",
       "      <td>0</td>\n",
       "      <td>689</td>\n",
       "      <td>0</td>\n",
       "      <td>0</td>\n",
       "      <td>0</td>\n",
       "      <td>0</td>\n",
       "      <td>1284.000000</td>\n",
       "      <td>114.833333</td>\n",
       "      <td>yes</td>\n",
       "    </tr>\n",
       "    <tr>\n",
       "      <th>1</th>\n",
       "      <td>120000</td>\n",
       "      <td>female</td>\n",
       "      <td>uni</td>\n",
       "      <td>single</td>\n",
       "      <td>26</td>\n",
       "      <td>m-1</td>\n",
       "      <td>m+2</td>\n",
       "      <td>m+0</td>\n",
       "      <td>m+0</td>\n",
       "      <td>m+0</td>\n",
       "      <td>m+2</td>\n",
       "      <td>2682</td>\n",
       "      <td>1725</td>\n",
       "      <td>2682</td>\n",
       "      <td>3272</td>\n",
       "      <td>3455</td>\n",
       "      <td>3261</td>\n",
       "      <td>0</td>\n",
       "      <td>1000</td>\n",
       "      <td>1000</td>\n",
       "      <td>1000</td>\n",
       "      <td>0</td>\n",
       "      <td>2000</td>\n",
       "      <td>2846.166667</td>\n",
       "      <td>833.333333</td>\n",
       "      <td>yes</td>\n",
       "    </tr>\n",
       "    <tr>\n",
       "      <th>2</th>\n",
       "      <td>90000</td>\n",
       "      <td>female</td>\n",
       "      <td>uni</td>\n",
       "      <td>single</td>\n",
       "      <td>34</td>\n",
       "      <td>m+0</td>\n",
       "      <td>m+0</td>\n",
       "      <td>m+0</td>\n",
       "      <td>m+0</td>\n",
       "      <td>m+0</td>\n",
       "      <td>m+0</td>\n",
       "      <td>29239</td>\n",
       "      <td>14027</td>\n",
       "      <td>13559</td>\n",
       "      <td>14331</td>\n",
       "      <td>14948</td>\n",
       "      <td>15549</td>\n",
       "      <td>1518</td>\n",
       "      <td>1500</td>\n",
       "      <td>1000</td>\n",
       "      <td>1000</td>\n",
       "      <td>1000</td>\n",
       "      <td>5000</td>\n",
       "      <td>16942.166667</td>\n",
       "      <td>1836.333333</td>\n",
       "      <td>no</td>\n",
       "    </tr>\n",
       "    <tr>\n",
       "      <th>3</th>\n",
       "      <td>50000</td>\n",
       "      <td>female</td>\n",
       "      <td>uni</td>\n",
       "      <td>married</td>\n",
       "      <td>37</td>\n",
       "      <td>m+0</td>\n",
       "      <td>m+0</td>\n",
       "      <td>m+0</td>\n",
       "      <td>m+0</td>\n",
       "      <td>m+0</td>\n",
       "      <td>m+0</td>\n",
       "      <td>46990</td>\n",
       "      <td>48233</td>\n",
       "      <td>49291</td>\n",
       "      <td>28314</td>\n",
       "      <td>28959</td>\n",
       "      <td>29547</td>\n",
       "      <td>2000</td>\n",
       "      <td>2019</td>\n",
       "      <td>1200</td>\n",
       "      <td>1100</td>\n",
       "      <td>1069</td>\n",
       "      <td>1000</td>\n",
       "      <td>38555.666667</td>\n",
       "      <td>1398.000000</td>\n",
       "      <td>no</td>\n",
       "    </tr>\n",
       "    <tr>\n",
       "      <th>4</th>\n",
       "      <td>50000</td>\n",
       "      <td>male</td>\n",
       "      <td>uni</td>\n",
       "      <td>married</td>\n",
       "      <td>57</td>\n",
       "      <td>m-1</td>\n",
       "      <td>m+0</td>\n",
       "      <td>m-1</td>\n",
       "      <td>m+0</td>\n",
       "      <td>m+0</td>\n",
       "      <td>m+0</td>\n",
       "      <td>8617</td>\n",
       "      <td>5670</td>\n",
       "      <td>35835</td>\n",
       "      <td>20940</td>\n",
       "      <td>19146</td>\n",
       "      <td>19131</td>\n",
       "      <td>2000</td>\n",
       "      <td>36681</td>\n",
       "      <td>10000</td>\n",
       "      <td>9000</td>\n",
       "      <td>689</td>\n",
       "      <td>679</td>\n",
       "      <td>18223.166667</td>\n",
       "      <td>9841.500000</td>\n",
       "      <td>no</td>\n",
       "    </tr>\n",
       "  </tbody>\n",
       "</table>\n",
       "</div>"
      ],
      "text/plain": [
       "   credit_limit  gender education marital_status  age timeliness_1  \\\n",
       "0         20000  female       uni        married   24          m+2   \n",
       "1        120000  female       uni         single   26          m-1   \n",
       "2         90000  female       uni         single   34          m+0   \n",
       "3         50000  female       uni        married   37          m+0   \n",
       "4         50000    male       uni        married   57          m-1   \n",
       "\n",
       "  timeliness_2 timeliness_3 timeliness_4 timeliness_5 timeliness_6  balance_1  \\\n",
       "0          m+2          m-1          m-1          m-2          m-2       3913   \n",
       "1          m+2          m+0          m+0          m+0          m+2       2682   \n",
       "2          m+0          m+0          m+0          m+0          m+0      29239   \n",
       "3          m+0          m+0          m+0          m+0          m+0      46990   \n",
       "4          m+0          m-1          m+0          m+0          m+0       8617   \n",
       "\n",
       "   balance_2  balance_3  balance_4  balance_5  balance_6  payment_1  \\\n",
       "0       3102        689          0          0          0          0   \n",
       "1       1725       2682       3272       3455       3261          0   \n",
       "2      14027      13559      14331      14948      15549       1518   \n",
       "3      48233      49291      28314      28959      29547       2000   \n",
       "4       5670      35835      20940      19146      19131       2000   \n",
       "\n",
       "   payment_2  payment_3  payment_4  payment_5  payment_6   avg_balance  \\\n",
       "0        689          0          0          0          0   1284.000000   \n",
       "1       1000       1000       1000          0       2000   2846.166667   \n",
       "2       1500       1000       1000       1000       5000  16942.166667   \n",
       "3       2019       1200       1100       1069       1000  38555.666667   \n",
       "4      36681      10000       9000        689        679  18223.166667   \n",
       "\n",
       "   avg_payment default  \n",
       "0   114.833333     yes  \n",
       "1   833.333333     yes  \n",
       "2  1836.333333      no  \n",
       "3  1398.000000      no  \n",
       "4  9841.500000      no  "
      ]
     },
     "execution_count": 3,
     "metadata": {},
     "output_type": "execute_result"
    }
   ],
   "source": [
    "df.head()"
   ]
  },
  {
   "cell_type": "code",
   "execution_count": 4,
   "id": "882cb6a6",
   "metadata": {},
   "outputs": [
    {
     "name": "stdout",
     "output_type": "stream",
     "text": [
      "No of Rows 30000\n",
      "No of Columns 26\n"
     ]
    }
   ],
   "source": [
    "print('No of Rows',df.shape[0])\n",
    "print('No of Columns',df.shape[1])"
   ]
  },
  {
   "cell_type": "code",
   "execution_count": 5,
   "id": "1a830b05",
   "metadata": {},
   "outputs": [
    {
     "name": "stdout",
     "output_type": "stream",
     "text": [
      "<class 'pandas.core.frame.DataFrame'>\n",
      "RangeIndex: 30000 entries, 0 to 29999\n",
      "Data columns (total 26 columns):\n",
      " #   Column          Non-Null Count  Dtype  \n",
      "---  ------          --------------  -----  \n",
      " 0   credit_limit    30000 non-null  int64  \n",
      " 1   gender          30000 non-null  object \n",
      " 2   education       30000 non-null  object \n",
      " 3   marital_status  30000 non-null  object \n",
      " 4   age             30000 non-null  int64  \n",
      " 5   timeliness_1    30000 non-null  object \n",
      " 6   timeliness_2    30000 non-null  object \n",
      " 7   timeliness_3    30000 non-null  object \n",
      " 8   timeliness_4    30000 non-null  object \n",
      " 9   timeliness_5    30000 non-null  object \n",
      " 10  timeliness_6    30000 non-null  object \n",
      " 11  balance_1       30000 non-null  int64  \n",
      " 12  balance_2       30000 non-null  int64  \n",
      " 13  balance_3       30000 non-null  int64  \n",
      " 14  balance_4       30000 non-null  int64  \n",
      " 15  balance_5       30000 non-null  int64  \n",
      " 16  balance_6       30000 non-null  int64  \n",
      " 17  payment_1       30000 non-null  int64  \n",
      " 18  payment_2       30000 non-null  int64  \n",
      " 19  payment_3       30000 non-null  int64  \n",
      " 20  payment_4       30000 non-null  int64  \n",
      " 21  payment_5       30000 non-null  int64  \n",
      " 22  payment_6       30000 non-null  int64  \n",
      " 23  avg_balance     30000 non-null  float64\n",
      " 24  avg_payment     30000 non-null  float64\n",
      " 25  default         30000 non-null  object \n",
      "dtypes: float64(2), int64(14), object(10)\n",
      "memory usage: 6.0+ MB\n"
     ]
    }
   ],
   "source": [
    "df.info()"
   ]
  },
  {
   "cell_type": "code",
   "execution_count": 6,
   "id": "2e699faf",
   "metadata": {},
   "outputs": [
    {
     "data": {
      "text/plain": [
       "credit_limit      0.0\n",
       "gender            0.0\n",
       "education         0.0\n",
       "marital_status    0.0\n",
       "age               0.0\n",
       "timeliness_1      0.0\n",
       "timeliness_2      0.0\n",
       "timeliness_3      0.0\n",
       "timeliness_4      0.0\n",
       "timeliness_5      0.0\n",
       "timeliness_6      0.0\n",
       "balance_1         0.0\n",
       "balance_2         0.0\n",
       "balance_3         0.0\n",
       "balance_4         0.0\n",
       "balance_5         0.0\n",
       "balance_6         0.0\n",
       "payment_1         0.0\n",
       "payment_2         0.0\n",
       "payment_3         0.0\n",
       "payment_4         0.0\n",
       "payment_5         0.0\n",
       "payment_6         0.0\n",
       "avg_balance       0.0\n",
       "avg_payment       0.0\n",
       "default           0.0\n",
       "dtype: float64"
      ]
     },
     "execution_count": 6,
     "metadata": {},
     "output_type": "execute_result"
    }
   ],
   "source": [
    "df.isnull().sum() / len(df) * 100"
   ]
  },
  {
   "cell_type": "code",
   "execution_count": 7,
   "id": "e55162c8",
   "metadata": {
    "scrolled": true
   },
   "outputs": [
    {
     "data": {
      "text/html": [
       "<div>\n",
       "<style scoped>\n",
       "    .dataframe tbody tr th:only-of-type {\n",
       "        vertical-align: middle;\n",
       "    }\n",
       "\n",
       "    .dataframe tbody tr th {\n",
       "        vertical-align: top;\n",
       "    }\n",
       "\n",
       "    .dataframe thead th {\n",
       "        text-align: right;\n",
       "    }\n",
       "</style>\n",
       "<table border=\"1\" class=\"dataframe\">\n",
       "  <thead>\n",
       "    <tr style=\"text-align: right;\">\n",
       "      <th></th>\n",
       "      <th>count</th>\n",
       "      <th>mean</th>\n",
       "      <th>std</th>\n",
       "      <th>min</th>\n",
       "      <th>25%</th>\n",
       "      <th>50%</th>\n",
       "      <th>75%</th>\n",
       "      <th>max</th>\n",
       "    </tr>\n",
       "  </thead>\n",
       "  <tbody>\n",
       "    <tr>\n",
       "      <th>credit_limit</th>\n",
       "      <td>30000.0</td>\n",
       "      <td>167484.322667</td>\n",
       "      <td>129747.661567</td>\n",
       "      <td>10000.000000</td>\n",
       "      <td>50000.000000</td>\n",
       "      <td>140000.000000</td>\n",
       "      <td>240000.000000</td>\n",
       "      <td>1.000000e+06</td>\n",
       "    </tr>\n",
       "    <tr>\n",
       "      <th>age</th>\n",
       "      <td>30000.0</td>\n",
       "      <td>35.485500</td>\n",
       "      <td>9.217904</td>\n",
       "      <td>21.000000</td>\n",
       "      <td>28.000000</td>\n",
       "      <td>34.000000</td>\n",
       "      <td>41.000000</td>\n",
       "      <td>7.900000e+01</td>\n",
       "    </tr>\n",
       "    <tr>\n",
       "      <th>balance_1</th>\n",
       "      <td>30000.0</td>\n",
       "      <td>51223.330900</td>\n",
       "      <td>73635.860576</td>\n",
       "      <td>-165580.000000</td>\n",
       "      <td>3558.750000</td>\n",
       "      <td>22381.500000</td>\n",
       "      <td>67091.000000</td>\n",
       "      <td>9.645110e+05</td>\n",
       "    </tr>\n",
       "    <tr>\n",
       "      <th>balance_2</th>\n",
       "      <td>30000.0</td>\n",
       "      <td>49179.075167</td>\n",
       "      <td>71173.768783</td>\n",
       "      <td>-69777.000000</td>\n",
       "      <td>2984.750000</td>\n",
       "      <td>21200.000000</td>\n",
       "      <td>64006.250000</td>\n",
       "      <td>9.839310e+05</td>\n",
       "    </tr>\n",
       "    <tr>\n",
       "      <th>balance_3</th>\n",
       "      <td>30000.0</td>\n",
       "      <td>47013.154800</td>\n",
       "      <td>69349.387427</td>\n",
       "      <td>-157264.000000</td>\n",
       "      <td>2666.250000</td>\n",
       "      <td>20088.500000</td>\n",
       "      <td>60164.750000</td>\n",
       "      <td>1.664089e+06</td>\n",
       "    </tr>\n",
       "    <tr>\n",
       "      <th>balance_4</th>\n",
       "      <td>30000.0</td>\n",
       "      <td>43262.948967</td>\n",
       "      <td>64332.856134</td>\n",
       "      <td>-170000.000000</td>\n",
       "      <td>2326.750000</td>\n",
       "      <td>19052.000000</td>\n",
       "      <td>54506.000000</td>\n",
       "      <td>8.915860e+05</td>\n",
       "    </tr>\n",
       "    <tr>\n",
       "      <th>balance_5</th>\n",
       "      <td>30000.0</td>\n",
       "      <td>40311.400967</td>\n",
       "      <td>60797.155770</td>\n",
       "      <td>-81334.000000</td>\n",
       "      <td>1763.000000</td>\n",
       "      <td>18104.500000</td>\n",
       "      <td>50190.500000</td>\n",
       "      <td>9.271710e+05</td>\n",
       "    </tr>\n",
       "    <tr>\n",
       "      <th>balance_6</th>\n",
       "      <td>30000.0</td>\n",
       "      <td>38871.760400</td>\n",
       "      <td>59554.107537</td>\n",
       "      <td>-339603.000000</td>\n",
       "      <td>1256.000000</td>\n",
       "      <td>17071.000000</td>\n",
       "      <td>49198.250000</td>\n",
       "      <td>9.616640e+05</td>\n",
       "    </tr>\n",
       "    <tr>\n",
       "      <th>payment_1</th>\n",
       "      <td>30000.0</td>\n",
       "      <td>5663.580500</td>\n",
       "      <td>16563.280354</td>\n",
       "      <td>0.000000</td>\n",
       "      <td>1000.000000</td>\n",
       "      <td>2100.000000</td>\n",
       "      <td>5006.000000</td>\n",
       "      <td>8.735520e+05</td>\n",
       "    </tr>\n",
       "    <tr>\n",
       "      <th>payment_2</th>\n",
       "      <td>30000.0</td>\n",
       "      <td>5921.163500</td>\n",
       "      <td>23040.870402</td>\n",
       "      <td>0.000000</td>\n",
       "      <td>833.000000</td>\n",
       "      <td>2009.000000</td>\n",
       "      <td>5000.000000</td>\n",
       "      <td>1.684259e+06</td>\n",
       "    </tr>\n",
       "    <tr>\n",
       "      <th>payment_3</th>\n",
       "      <td>30000.0</td>\n",
       "      <td>5225.681500</td>\n",
       "      <td>17606.961470</td>\n",
       "      <td>0.000000</td>\n",
       "      <td>390.000000</td>\n",
       "      <td>1800.000000</td>\n",
       "      <td>4505.000000</td>\n",
       "      <td>8.960400e+05</td>\n",
       "    </tr>\n",
       "    <tr>\n",
       "      <th>payment_4</th>\n",
       "      <td>30000.0</td>\n",
       "      <td>4826.076867</td>\n",
       "      <td>15666.159744</td>\n",
       "      <td>0.000000</td>\n",
       "      <td>296.000000</td>\n",
       "      <td>1500.000000</td>\n",
       "      <td>4013.250000</td>\n",
       "      <td>6.210000e+05</td>\n",
       "    </tr>\n",
       "    <tr>\n",
       "      <th>payment_5</th>\n",
       "      <td>30000.0</td>\n",
       "      <td>4799.387633</td>\n",
       "      <td>15278.305679</td>\n",
       "      <td>0.000000</td>\n",
       "      <td>252.500000</td>\n",
       "      <td>1500.000000</td>\n",
       "      <td>4031.500000</td>\n",
       "      <td>4.265290e+05</td>\n",
       "    </tr>\n",
       "    <tr>\n",
       "      <th>payment_6</th>\n",
       "      <td>30000.0</td>\n",
       "      <td>5215.502567</td>\n",
       "      <td>17777.465775</td>\n",
       "      <td>0.000000</td>\n",
       "      <td>117.750000</td>\n",
       "      <td>1500.000000</td>\n",
       "      <td>4000.000000</td>\n",
       "      <td>5.286660e+05</td>\n",
       "    </tr>\n",
       "    <tr>\n",
       "      <th>avg_balance</th>\n",
       "      <td>30000.0</td>\n",
       "      <td>44976.945200</td>\n",
       "      <td>63260.721860</td>\n",
       "      <td>-56043.166667</td>\n",
       "      <td>4781.333333</td>\n",
       "      <td>21051.833333</td>\n",
       "      <td>57104.416667</td>\n",
       "      <td>8.773138e+05</td>\n",
       "    </tr>\n",
       "    <tr>\n",
       "      <th>avg_payment</th>\n",
       "      <td>30000.0</td>\n",
       "      <td>5275.232094</td>\n",
       "      <td>10137.946323</td>\n",
       "      <td>0.000000</td>\n",
       "      <td>1113.291667</td>\n",
       "      <td>2397.166667</td>\n",
       "      <td>5583.916667</td>\n",
       "      <td>6.273443e+05</td>\n",
       "    </tr>\n",
       "  </tbody>\n",
       "</table>\n",
       "</div>"
      ],
      "text/plain": [
       "                count           mean            std            min  \\\n",
       "credit_limit  30000.0  167484.322667  129747.661567   10000.000000   \n",
       "age           30000.0      35.485500       9.217904      21.000000   \n",
       "balance_1     30000.0   51223.330900   73635.860576 -165580.000000   \n",
       "balance_2     30000.0   49179.075167   71173.768783  -69777.000000   \n",
       "balance_3     30000.0   47013.154800   69349.387427 -157264.000000   \n",
       "balance_4     30000.0   43262.948967   64332.856134 -170000.000000   \n",
       "balance_5     30000.0   40311.400967   60797.155770  -81334.000000   \n",
       "balance_6     30000.0   38871.760400   59554.107537 -339603.000000   \n",
       "payment_1     30000.0    5663.580500   16563.280354       0.000000   \n",
       "payment_2     30000.0    5921.163500   23040.870402       0.000000   \n",
       "payment_3     30000.0    5225.681500   17606.961470       0.000000   \n",
       "payment_4     30000.0    4826.076867   15666.159744       0.000000   \n",
       "payment_5     30000.0    4799.387633   15278.305679       0.000000   \n",
       "payment_6     30000.0    5215.502567   17777.465775       0.000000   \n",
       "avg_balance   30000.0   44976.945200   63260.721860  -56043.166667   \n",
       "avg_payment   30000.0    5275.232094   10137.946323       0.000000   \n",
       "\n",
       "                       25%            50%            75%           max  \n",
       "credit_limit  50000.000000  140000.000000  240000.000000  1.000000e+06  \n",
       "age              28.000000      34.000000      41.000000  7.900000e+01  \n",
       "balance_1      3558.750000   22381.500000   67091.000000  9.645110e+05  \n",
       "balance_2      2984.750000   21200.000000   64006.250000  9.839310e+05  \n",
       "balance_3      2666.250000   20088.500000   60164.750000  1.664089e+06  \n",
       "balance_4      2326.750000   19052.000000   54506.000000  8.915860e+05  \n",
       "balance_5      1763.000000   18104.500000   50190.500000  9.271710e+05  \n",
       "balance_6      1256.000000   17071.000000   49198.250000  9.616640e+05  \n",
       "payment_1      1000.000000    2100.000000    5006.000000  8.735520e+05  \n",
       "payment_2       833.000000    2009.000000    5000.000000  1.684259e+06  \n",
       "payment_3       390.000000    1800.000000    4505.000000  8.960400e+05  \n",
       "payment_4       296.000000    1500.000000    4013.250000  6.210000e+05  \n",
       "payment_5       252.500000    1500.000000    4031.500000  4.265290e+05  \n",
       "payment_6       117.750000    1500.000000    4000.000000  5.286660e+05  \n",
       "avg_balance    4781.333333   21051.833333   57104.416667  8.773138e+05  \n",
       "avg_payment    1113.291667    2397.166667    5583.916667  6.273443e+05  "
      ]
     },
     "execution_count": 7,
     "metadata": {},
     "output_type": "execute_result"
    }
   ],
   "source": [
    "df.describe().T"
   ]
  },
  {
   "cell_type": "code",
   "execution_count": 8,
   "id": "ccc7d68b",
   "metadata": {},
   "outputs": [
    {
     "data": {
      "text/html": [
       "<div>\n",
       "<style scoped>\n",
       "    .dataframe tbody tr th:only-of-type {\n",
       "        vertical-align: middle;\n",
       "    }\n",
       "\n",
       "    .dataframe tbody tr th {\n",
       "        vertical-align: top;\n",
       "    }\n",
       "\n",
       "    .dataframe thead th {\n",
       "        text-align: right;\n",
       "    }\n",
       "</style>\n",
       "<table border=\"1\" class=\"dataframe\">\n",
       "  <thead>\n",
       "    <tr style=\"text-align: right;\">\n",
       "      <th></th>\n",
       "      <th>count</th>\n",
       "      <th>unique</th>\n",
       "      <th>top</th>\n",
       "      <th>freq</th>\n",
       "    </tr>\n",
       "  </thead>\n",
       "  <tbody>\n",
       "    <tr>\n",
       "      <th>gender</th>\n",
       "      <td>30000</td>\n",
       "      <td>2</td>\n",
       "      <td>female</td>\n",
       "      <td>18112</td>\n",
       "    </tr>\n",
       "    <tr>\n",
       "      <th>education</th>\n",
       "      <td>30000</td>\n",
       "      <td>7</td>\n",
       "      <td>uni</td>\n",
       "      <td>14030</td>\n",
       "    </tr>\n",
       "    <tr>\n",
       "      <th>marital_status</th>\n",
       "      <td>30000</td>\n",
       "      <td>4</td>\n",
       "      <td>single</td>\n",
       "      <td>15964</td>\n",
       "    </tr>\n",
       "    <tr>\n",
       "      <th>timeliness_1</th>\n",
       "      <td>30000</td>\n",
       "      <td>11</td>\n",
       "      <td>m+0</td>\n",
       "      <td>14737</td>\n",
       "    </tr>\n",
       "    <tr>\n",
       "      <th>timeliness_2</th>\n",
       "      <td>30000</td>\n",
       "      <td>11</td>\n",
       "      <td>m+0</td>\n",
       "      <td>15730</td>\n",
       "    </tr>\n",
       "    <tr>\n",
       "      <th>timeliness_3</th>\n",
       "      <td>30000</td>\n",
       "      <td>11</td>\n",
       "      <td>m+0</td>\n",
       "      <td>15764</td>\n",
       "    </tr>\n",
       "    <tr>\n",
       "      <th>timeliness_4</th>\n",
       "      <td>30000</td>\n",
       "      <td>11</td>\n",
       "      <td>m+0</td>\n",
       "      <td>16455</td>\n",
       "    </tr>\n",
       "    <tr>\n",
       "      <th>timeliness_5</th>\n",
       "      <td>30000</td>\n",
       "      <td>10</td>\n",
       "      <td>m+0</td>\n",
       "      <td>16947</td>\n",
       "    </tr>\n",
       "    <tr>\n",
       "      <th>timeliness_6</th>\n",
       "      <td>30000</td>\n",
       "      <td>10</td>\n",
       "      <td>m+0</td>\n",
       "      <td>16286</td>\n",
       "    </tr>\n",
       "    <tr>\n",
       "      <th>default</th>\n",
       "      <td>30000</td>\n",
       "      <td>2</td>\n",
       "      <td>no</td>\n",
       "      <td>23364</td>\n",
       "    </tr>\n",
       "  </tbody>\n",
       "</table>\n",
       "</div>"
      ],
      "text/plain": [
       "                count unique     top   freq\n",
       "gender          30000      2  female  18112\n",
       "education       30000      7     uni  14030\n",
       "marital_status  30000      4  single  15964\n",
       "timeliness_1    30000     11     m+0  14737\n",
       "timeliness_2    30000     11     m+0  15730\n",
       "timeliness_3    30000     11     m+0  15764\n",
       "timeliness_4    30000     11     m+0  16455\n",
       "timeliness_5    30000     10     m+0  16947\n",
       "timeliness_6    30000     10     m+0  16286\n",
       "default         30000      2      no  23364"
      ]
     },
     "execution_count": 8,
     "metadata": {},
     "output_type": "execute_result"
    }
   ],
   "source": [
    "df.describe(include=object).T"
   ]
  },
  {
   "cell_type": "markdown",
   "id": "124c41b7",
   "metadata": {},
   "source": [
    "The **average value for the amount of credit card limit is 167484** and **maximum credit_limit 1000000.**\n",
    "loan has given to those who are working the age limit is 21 to 79 and the **average age is 35.5 years**"
   ]
  },
  {
   "cell_type": "code",
   "execution_count": 9,
   "id": "080b1a3a",
   "metadata": {},
   "outputs": [
    {
     "data": {
      "text/html": [
       "<div>\n",
       "<style scoped>\n",
       "    .dataframe tbody tr th:only-of-type {\n",
       "        vertical-align: middle;\n",
       "    }\n",
       "\n",
       "    .dataframe tbody tr th {\n",
       "        vertical-align: top;\n",
       "    }\n",
       "\n",
       "    .dataframe thead th {\n",
       "        text-align: right;\n",
       "    }\n",
       "</style>\n",
       "<table border=\"1\" class=\"dataframe\">\n",
       "  <thead>\n",
       "    <tr style=\"text-align: right;\">\n",
       "      <th></th>\n",
       "      <th>credit_limit</th>\n",
       "      <th>gender</th>\n",
       "      <th>education</th>\n",
       "      <th>marital_status</th>\n",
       "      <th>age</th>\n",
       "      <th>timeliness_1</th>\n",
       "      <th>timeliness_2</th>\n",
       "      <th>timeliness_3</th>\n",
       "      <th>timeliness_4</th>\n",
       "      <th>timeliness_5</th>\n",
       "      <th>timeliness_6</th>\n",
       "      <th>balance_1</th>\n",
       "      <th>balance_2</th>\n",
       "      <th>balance_3</th>\n",
       "      <th>balance_4</th>\n",
       "      <th>balance_5</th>\n",
       "      <th>balance_6</th>\n",
       "      <th>payment_1</th>\n",
       "      <th>payment_2</th>\n",
       "      <th>payment_3</th>\n",
       "      <th>payment_4</th>\n",
       "      <th>payment_5</th>\n",
       "      <th>payment_6</th>\n",
       "      <th>avg_balance</th>\n",
       "      <th>avg_payment</th>\n",
       "      <th>default</th>\n",
       "    </tr>\n",
       "  </thead>\n",
       "  <tbody>\n",
       "    <tr>\n",
       "      <th>NULL COUNT</th>\n",
       "      <td>0</td>\n",
       "      <td>0</td>\n",
       "      <td>0</td>\n",
       "      <td>0</td>\n",
       "      <td>0</td>\n",
       "      <td>0</td>\n",
       "      <td>0</td>\n",
       "      <td>0</td>\n",
       "      <td>0</td>\n",
       "      <td>0</td>\n",
       "      <td>0</td>\n",
       "      <td>0</td>\n",
       "      <td>0</td>\n",
       "      <td>0</td>\n",
       "      <td>0</td>\n",
       "      <td>0</td>\n",
       "      <td>0</td>\n",
       "      <td>0</td>\n",
       "      <td>0</td>\n",
       "      <td>0</td>\n",
       "      <td>0</td>\n",
       "      <td>0</td>\n",
       "      <td>0</td>\n",
       "      <td>0</td>\n",
       "      <td>0</td>\n",
       "      <td>0</td>\n",
       "    </tr>\n",
       "  </tbody>\n",
       "</table>\n",
       "</div>"
      ],
      "text/plain": [
       "            credit_limit  gender  education  marital_status  age  \\\n",
       "NULL COUNT             0       0          0               0    0   \n",
       "\n",
       "            timeliness_1  timeliness_2  timeliness_3  timeliness_4  \\\n",
       "NULL COUNT             0             0             0             0   \n",
       "\n",
       "            timeliness_5  timeliness_6  balance_1  balance_2  balance_3  \\\n",
       "NULL COUNT             0             0          0          0          0   \n",
       "\n",
       "            balance_4  balance_5  balance_6  payment_1  payment_2  payment_3  \\\n",
       "NULL COUNT          0          0          0          0          0          0   \n",
       "\n",
       "            payment_4  payment_5  payment_6  avg_balance  avg_payment  default  \n",
       "NULL COUNT          0          0          0            0            0        0  "
      ]
     },
     "execution_count": 9,
     "metadata": {},
     "output_type": "execute_result"
    }
   ],
   "source": [
    "dn=pd.DataFrame(index=df.columns,data={\"NULL COUNT\":df.isnull().sum()})\n",
    "dn.T"
   ]
  },
  {
   "cell_type": "code",
   "execution_count": 10,
   "id": "4df18231",
   "metadata": {},
   "outputs": [
    {
     "name": "stdout",
     "output_type": "stream",
     "text": [
      "gender 2\n",
      "female    60.373333\n",
      "male      39.626667\n",
      "Name: gender, dtype: float64\n",
      "====================\n",
      "education 7\n",
      "uni       46.766667\n",
      "grad      35.283333\n",
      "hs        16.390000\n",
      "other2     0.933333\n",
      "other1     0.410000\n",
      "other3     0.170000\n",
      "0          0.046667\n",
      "Name: education, dtype: float64\n",
      "====================\n",
      "marital_status 4\n",
      "single     53.213333\n",
      "married    45.530000\n",
      "other       1.076667\n",
      "na          0.180000\n",
      "Name: marital_status, dtype: float64\n",
      "====================\n",
      "timeliness_1 11\n",
      "m+0    49.123333\n",
      "m-1    18.953333\n",
      "m+1    12.293333\n",
      "m-2     9.196667\n",
      "m+2     8.890000\n",
      "m+3     1.073333\n",
      "m+4     0.253333\n",
      "m+5     0.086667\n",
      "m+8     0.063333\n",
      "m+6     0.036667\n",
      "m+7     0.030000\n",
      "Name: timeliness_1, dtype: float64\n",
      "====================\n",
      "timeliness_2 11\n",
      "m+0    52.433333\n",
      "m-1    20.166667\n",
      "m+2    13.090000\n",
      "m-2    12.606667\n",
      "m+3     1.086667\n",
      "m+4     0.330000\n",
      "m+1     0.093333\n",
      "m+5     0.083333\n",
      "m+7     0.066667\n",
      "m+6     0.040000\n",
      "m+8     0.003333\n",
      "Name: timeliness_2, dtype: float64\n",
      "====================\n",
      "timeliness_3 11\n",
      "m+0    52.546667\n",
      "m-1    19.793333\n",
      "m-2    13.616667\n",
      "m+2    12.730000\n",
      "m+3     0.800000\n",
      "m+4     0.253333\n",
      "m+7     0.090000\n",
      "m+6     0.076667\n",
      "m+5     0.070000\n",
      "m+1     0.013333\n",
      "m+8     0.010000\n",
      "Name: timeliness_3, dtype: float64\n",
      "====================\n",
      "timeliness_4 11\n",
      "m+0    54.850000\n",
      "m-1    18.956667\n",
      "m-2    14.493333\n",
      "m+2    10.530000\n",
      "m+3     0.600000\n",
      "m+4     0.230000\n",
      "m+7     0.193333\n",
      "m+5     0.116667\n",
      "m+6     0.016667\n",
      "m+1     0.006667\n",
      "m+8     0.006667\n",
      "Name: timeliness_4, dtype: float64\n",
      "====================\n",
      "timeliness_5 10\n",
      "m+0    56.490000\n",
      "m-1    18.463333\n",
      "m-2    15.153333\n",
      "m+2     8.753333\n",
      "m+3     0.593333\n",
      "m+4     0.280000\n",
      "m+7     0.193333\n",
      "m+5     0.056667\n",
      "m+6     0.013333\n",
      "m+8     0.003333\n",
      "Name: timeliness_5, dtype: float64\n",
      "====================\n",
      "timeliness_6 10\n",
      "m+0    54.286667\n",
      "m-1    19.133333\n",
      "m-2    16.316667\n",
      "m+2     9.220000\n",
      "m+3     0.613333\n",
      "m+4     0.163333\n",
      "m+7     0.153333\n",
      "m+6     0.063333\n",
      "m+5     0.043333\n",
      "m+8     0.006667\n",
      "Name: timeliness_6, dtype: float64\n",
      "====================\n",
      "default 2\n",
      "no     77.88\n",
      "yes    22.12\n",
      "Name: default, dtype: float64\n",
      "====================\n"
     ]
    }
   ],
   "source": [
    "for i in df.select_dtypes('object').columns:\n",
    "    print(i,df[i].nunique())\n",
    "    print(df[i].value_counts(normalize=True)*100)\n",
    "    print('=='*10)"
   ]
  },
  {
   "cell_type": "code",
   "execution_count": 11,
   "id": "12810c2a",
   "metadata": {},
   "outputs": [],
   "source": [
    "df1=df.copy()"
   ]
  },
  {
   "cell_type": "markdown",
   "id": "cd59cb1d",
   "metadata": {},
   "source": [
    "## missing values present in marital_status so treating them"
   ]
  },
  {
   "cell_type": "code",
   "execution_count": 12,
   "id": "bd20f613",
   "metadata": {},
   "outputs": [
    {
     "data": {
      "text/plain": [
       "single     15964\n",
       "married    13659\n",
       "other        323\n",
       "na            54\n",
       "Name: marital_status, dtype: int64"
      ]
     },
     "metadata": {},
     "output_type": "display_data"
    }
   ],
   "source": [
    "display(df1['marital_status'].value_counts())"
   ]
  },
  {
   "cell_type": "code",
   "execution_count": 13,
   "id": "b83d3e12",
   "metadata": {},
   "outputs": [],
   "source": [
    "df1['marital_status']=df['marital_status'].replace('na',np.nan)"
   ]
  },
  {
   "cell_type": "code",
   "execution_count": 14,
   "id": "e4c33d6e",
   "metadata": {},
   "outputs": [],
   "source": [
    "df1['marital_status'].fillna(df1['marital_status'].mode()[0],inplace=True)"
   ]
  },
  {
   "cell_type": "markdown",
   "id": "e81e4039",
   "metadata": {},
   "source": [
    " Here impute null value to 'single' it has high frequency"
   ]
  },
  {
   "cell_type": "code",
   "execution_count": 15,
   "id": "444ddeb8",
   "metadata": {},
   "outputs": [],
   "source": [
    "df1['education'].replace(to_replace=['other2','other1','other3','0'],value='others',inplace=True)"
   ]
  },
  {
   "cell_type": "code",
   "execution_count": 16,
   "id": "9c01c3da",
   "metadata": {},
   "outputs": [
    {
     "data": {
      "text/html": [
       "<div>\n",
       "<style scoped>\n",
       "    .dataframe tbody tr th:only-of-type {\n",
       "        vertical-align: middle;\n",
       "    }\n",
       "\n",
       "    .dataframe tbody tr th {\n",
       "        vertical-align: top;\n",
       "    }\n",
       "\n",
       "    .dataframe thead th {\n",
       "        text-align: right;\n",
       "    }\n",
       "</style>\n",
       "<table border=\"1\" class=\"dataframe\">\n",
       "  <thead>\n",
       "    <tr style=\"text-align: right;\">\n",
       "      <th></th>\n",
       "      <th>credit_limit</th>\n",
       "      <th>gender</th>\n",
       "      <th>education</th>\n",
       "      <th>marital_status</th>\n",
       "      <th>age</th>\n",
       "      <th>timeliness_1</th>\n",
       "      <th>timeliness_2</th>\n",
       "      <th>timeliness_3</th>\n",
       "      <th>timeliness_4</th>\n",
       "      <th>timeliness_5</th>\n",
       "      <th>timeliness_6</th>\n",
       "      <th>balance_1</th>\n",
       "      <th>balance_2</th>\n",
       "      <th>balance_3</th>\n",
       "      <th>balance_4</th>\n",
       "      <th>balance_5</th>\n",
       "      <th>balance_6</th>\n",
       "      <th>payment_1</th>\n",
       "      <th>payment_2</th>\n",
       "      <th>payment_3</th>\n",
       "      <th>payment_4</th>\n",
       "      <th>payment_5</th>\n",
       "      <th>payment_6</th>\n",
       "      <th>avg_balance</th>\n",
       "      <th>avg_payment</th>\n",
       "      <th>default</th>\n",
       "    </tr>\n",
       "  </thead>\n",
       "  <tbody>\n",
       "    <tr>\n",
       "      <th>0</th>\n",
       "      <td>20000</td>\n",
       "      <td>female</td>\n",
       "      <td>uni</td>\n",
       "      <td>married</td>\n",
       "      <td>24</td>\n",
       "      <td>m+2</td>\n",
       "      <td>m+2</td>\n",
       "      <td>m-1</td>\n",
       "      <td>m-1</td>\n",
       "      <td>m-2</td>\n",
       "      <td>m-2</td>\n",
       "      <td>3913</td>\n",
       "      <td>3102</td>\n",
       "      <td>689</td>\n",
       "      <td>0</td>\n",
       "      <td>0</td>\n",
       "      <td>0</td>\n",
       "      <td>0</td>\n",
       "      <td>689</td>\n",
       "      <td>0</td>\n",
       "      <td>0</td>\n",
       "      <td>0</td>\n",
       "      <td>0</td>\n",
       "      <td>1284.000000</td>\n",
       "      <td>114.833333</td>\n",
       "      <td>yes</td>\n",
       "    </tr>\n",
       "    <tr>\n",
       "      <th>1</th>\n",
       "      <td>120000</td>\n",
       "      <td>female</td>\n",
       "      <td>uni</td>\n",
       "      <td>single</td>\n",
       "      <td>26</td>\n",
       "      <td>m-1</td>\n",
       "      <td>m+2</td>\n",
       "      <td>m+0</td>\n",
       "      <td>m+0</td>\n",
       "      <td>m+0</td>\n",
       "      <td>m+2</td>\n",
       "      <td>2682</td>\n",
       "      <td>1725</td>\n",
       "      <td>2682</td>\n",
       "      <td>3272</td>\n",
       "      <td>3455</td>\n",
       "      <td>3261</td>\n",
       "      <td>0</td>\n",
       "      <td>1000</td>\n",
       "      <td>1000</td>\n",
       "      <td>1000</td>\n",
       "      <td>0</td>\n",
       "      <td>2000</td>\n",
       "      <td>2846.166667</td>\n",
       "      <td>833.333333</td>\n",
       "      <td>yes</td>\n",
       "    </tr>\n",
       "    <tr>\n",
       "      <th>2</th>\n",
       "      <td>90000</td>\n",
       "      <td>female</td>\n",
       "      <td>uni</td>\n",
       "      <td>single</td>\n",
       "      <td>34</td>\n",
       "      <td>m+0</td>\n",
       "      <td>m+0</td>\n",
       "      <td>m+0</td>\n",
       "      <td>m+0</td>\n",
       "      <td>m+0</td>\n",
       "      <td>m+0</td>\n",
       "      <td>29239</td>\n",
       "      <td>14027</td>\n",
       "      <td>13559</td>\n",
       "      <td>14331</td>\n",
       "      <td>14948</td>\n",
       "      <td>15549</td>\n",
       "      <td>1518</td>\n",
       "      <td>1500</td>\n",
       "      <td>1000</td>\n",
       "      <td>1000</td>\n",
       "      <td>1000</td>\n",
       "      <td>5000</td>\n",
       "      <td>16942.166667</td>\n",
       "      <td>1836.333333</td>\n",
       "      <td>no</td>\n",
       "    </tr>\n",
       "    <tr>\n",
       "      <th>3</th>\n",
       "      <td>50000</td>\n",
       "      <td>female</td>\n",
       "      <td>uni</td>\n",
       "      <td>married</td>\n",
       "      <td>37</td>\n",
       "      <td>m+0</td>\n",
       "      <td>m+0</td>\n",
       "      <td>m+0</td>\n",
       "      <td>m+0</td>\n",
       "      <td>m+0</td>\n",
       "      <td>m+0</td>\n",
       "      <td>46990</td>\n",
       "      <td>48233</td>\n",
       "      <td>49291</td>\n",
       "      <td>28314</td>\n",
       "      <td>28959</td>\n",
       "      <td>29547</td>\n",
       "      <td>2000</td>\n",
       "      <td>2019</td>\n",
       "      <td>1200</td>\n",
       "      <td>1100</td>\n",
       "      <td>1069</td>\n",
       "      <td>1000</td>\n",
       "      <td>38555.666667</td>\n",
       "      <td>1398.000000</td>\n",
       "      <td>no</td>\n",
       "    </tr>\n",
       "    <tr>\n",
       "      <th>4</th>\n",
       "      <td>50000</td>\n",
       "      <td>male</td>\n",
       "      <td>uni</td>\n",
       "      <td>married</td>\n",
       "      <td>57</td>\n",
       "      <td>m-1</td>\n",
       "      <td>m+0</td>\n",
       "      <td>m-1</td>\n",
       "      <td>m+0</td>\n",
       "      <td>m+0</td>\n",
       "      <td>m+0</td>\n",
       "      <td>8617</td>\n",
       "      <td>5670</td>\n",
       "      <td>35835</td>\n",
       "      <td>20940</td>\n",
       "      <td>19146</td>\n",
       "      <td>19131</td>\n",
       "      <td>2000</td>\n",
       "      <td>36681</td>\n",
       "      <td>10000</td>\n",
       "      <td>9000</td>\n",
       "      <td>689</td>\n",
       "      <td>679</td>\n",
       "      <td>18223.166667</td>\n",
       "      <td>9841.500000</td>\n",
       "      <td>no</td>\n",
       "    </tr>\n",
       "  </tbody>\n",
       "</table>\n",
       "</div>"
      ],
      "text/plain": [
       "   credit_limit  gender education marital_status  age timeliness_1  \\\n",
       "0         20000  female       uni        married   24          m+2   \n",
       "1        120000  female       uni         single   26          m-1   \n",
       "2         90000  female       uni         single   34          m+0   \n",
       "3         50000  female       uni        married   37          m+0   \n",
       "4         50000    male       uni        married   57          m-1   \n",
       "\n",
       "  timeliness_2 timeliness_3 timeliness_4 timeliness_5 timeliness_6  balance_1  \\\n",
       "0          m+2          m-1          m-1          m-2          m-2       3913   \n",
       "1          m+2          m+0          m+0          m+0          m+2       2682   \n",
       "2          m+0          m+0          m+0          m+0          m+0      29239   \n",
       "3          m+0          m+0          m+0          m+0          m+0      46990   \n",
       "4          m+0          m-1          m+0          m+0          m+0       8617   \n",
       "\n",
       "   balance_2  balance_3  balance_4  balance_5  balance_6  payment_1  \\\n",
       "0       3102        689          0          0          0          0   \n",
       "1       1725       2682       3272       3455       3261          0   \n",
       "2      14027      13559      14331      14948      15549       1518   \n",
       "3      48233      49291      28314      28959      29547       2000   \n",
       "4       5670      35835      20940      19146      19131       2000   \n",
       "\n",
       "   payment_2  payment_3  payment_4  payment_5  payment_6   avg_balance  \\\n",
       "0        689          0          0          0          0   1284.000000   \n",
       "1       1000       1000       1000          0       2000   2846.166667   \n",
       "2       1500       1000       1000       1000       5000  16942.166667   \n",
       "3       2019       1200       1100       1069       1000  38555.666667   \n",
       "4      36681      10000       9000        689        679  18223.166667   \n",
       "\n",
       "   avg_payment default  \n",
       "0   114.833333     yes  \n",
       "1   833.333333     yes  \n",
       "2  1836.333333      no  \n",
       "3  1398.000000      no  \n",
       "4  9841.500000      no  "
      ]
     },
     "execution_count": 16,
     "metadata": {},
     "output_type": "execute_result"
    }
   ],
   "source": [
    "df1.head()"
   ]
  },
  {
   "cell_type": "markdown",
   "id": "aa6a680f",
   "metadata": {},
   "source": [
    "### univariate analysis"
   ]
  },
  {
   "cell_type": "code",
   "execution_count": 17,
   "id": "95968fd3",
   "metadata": {},
   "outputs": [
    {
     "data": {
      "image/png": "[encoded data removed]",
      "text/plain": [
       "<Figure size 720x1080 with 10 Axes>"
      ]
     },
     "metadata": {
      "needs_background": "light"
     },
     "output_type": "display_data"
    }
   ],
   "source": [
    "plt.figure(figsize=(10,15))\n",
    "j=1\n",
    "for i in df1.select_dtypes('object').columns:\n",
    "    plt.subplot(5,2,j)\n",
    "    sns.countplot(df1[i])\n",
    "    plt.title(i)\n",
    "    plt.xticks(rotation ='vertical')\n",
    "    j+=1\n",
    "    \n",
    "plt.tight_layout()\n",
    "plt.show()"
   ]
  },
  {
   "cell_type": "code",
   "execution_count": 18,
   "id": "d0bf204e",
   "metadata": {},
   "outputs": [],
   "source": [
    "# female are more in number\n",
    "# university member are more\n",
    "# unmarried person are more"
   ]
  },
  {
   "cell_type": "code",
   "execution_count": 19,
   "id": "e1c35b23",
   "metadata": {},
   "outputs": [
    {
     "name": "stdout",
     "output_type": "stream",
     "text": [
      "no     77.88\n",
      "yes    22.12\n",
      "Name: default, dtype: float64\n"
     ]
    },
    {
     "data": {
      "image/png": "[encoded data removed]",
      "text/plain": [
       "<Figure size 432x288 with 1 Axes>"
      ]
     },
     "metadata": {
      "needs_background": "light"
     },
     "output_type": "display_data"
    }
   ],
   "source": [
    "sns.countplot(df.default)\n",
    "plt.title(\"Defaulting Payment Next Month\")\n",
    "print(df['default'].value_counts(normalize=True)*100)\n",
    "plt.show()"
   ]
  },
  {
   "cell_type": "code",
   "execution_count": 20,
   "id": "0880a24d",
   "metadata": {},
   "outputs": [
    {
     "data": {
      "image/png": "[encoded data removed]",
      "text/plain": [
       "<Figure size 1440x360 with 2 Axes>"
      ]
     },
     "metadata": {
      "needs_background": "light"
     },
     "output_type": "display_data"
    }
   ],
   "source": [
    "plt.subplots(figsize=(20,5))\n",
    "plt.subplot(121)\n",
    "sns.distplot(df1['credit_limit'])\n",
    "\n",
    "plt.subplot(122)\n",
    "sns.distplot(df1['age'])\n",
    "\n",
    "plt.show()"
   ]
  },
  {
   "cell_type": "markdown",
   "id": "0d6a4436",
   "metadata": {},
   "source": [
    "By plotting the continous variables we observe that dataset consists of skewed data of credit_limit  and age of clients.\n",
    "We have more number of clients having limiting balance between 0 to 200000 currency.\n",
    "We have more number of clients from age bracket of 20 to 40, i.e., clients from mostly young to mid aged groups."
   ]
  },
  {
   "cell_type": "markdown",
   "id": "1024d120",
   "metadata": {},
   "source": [
    "### bivariate analysis"
   ]
  },
  {
   "cell_type": "code",
   "execution_count": 21,
   "id": "2b0eb1b9",
   "metadata": {},
   "outputs": [
    {
     "data": {
      "image/png": "[encoded data removed]",
      "text/plain": [
       "<Figure size 1080x2160 with 9 Axes>"
      ]
     },
     "metadata": {
      "needs_background": "light"
     },
     "output_type": "display_data"
    }
   ],
   "source": [
    "plt.figure(figsize=(15,30))\n",
    "for i,col in enumerate(df1.select_dtypes(include='object').columns[:-1],1):\n",
    "    plt.subplot(8,2,i)\n",
    "    sns.countplot(x=df1[col],hue=df[\"default\"])\n",
    "    plt.xlabel(col)\n",
    "plt.show()"
   ]
  },
  {
   "cell_type": "markdown",
   "id": "c5af120f",
   "metadata": {},
   "source": [
    "# stat test--) num vs cat(=2)"
   ]
  },
  {
   "cell_type": "markdown",
   "id": "c1e75a34",
   "metadata": {},
   "source": [
    "### credit_limit vs default"
   ]
  },
  {
   "cell_type": "code",
   "execution_count": 22,
   "id": "d4fed8df",
   "metadata": {},
   "outputs": [],
   "source": [
    "# Null : Data is normal\n",
    "# Altr : Data is not normal"
   ]
  },
  {
   "cell_type": "code",
   "execution_count": 23,
   "id": "2469a564",
   "metadata": {},
   "outputs": [],
   "source": [
    "credit_limit_yes= df1[df1['default']=='yes']['credit_limit']\n",
    "credit_limit_no= df1[df1['default']=='no']['credit_limit']"
   ]
  },
  {
   "cell_type": "code",
   "execution_count": 24,
   "id": "cdf1b6b5",
   "metadata": {},
   "outputs": [
    {
     "data": {
      "text/plain": [
       "ShapiroResult(statistic=0.9073493480682373, pvalue=0.0)"
      ]
     },
     "execution_count": 24,
     "metadata": {},
     "output_type": "execute_result"
    }
   ],
   "source": [
    "stats.shapiro(df1['credit_limit'])"
   ]
  },
  {
   "cell_type": "code",
   "execution_count": 25,
   "id": "7008050c",
   "metadata": {},
   "outputs": [],
   "source": [
    "# Since p_value is less than sig_level so we reject the null hypothesis we conclude data is not normal."
   ]
  },
  {
   "cell_type": "code",
   "execution_count": 26,
   "id": "51b5d26a",
   "metadata": {},
   "outputs": [],
   "source": [
    "## Non - Parametric Test +-"
   ]
  },
  {
   "cell_type": "code",
   "execution_count": 27,
   "id": "d87877fb",
   "metadata": {},
   "outputs": [],
   "source": [
    "# Null : credit_limit & default are Independent\n",
    "# ALTR : credit_limit & default are Dependent"
   ]
  },
  {
   "cell_type": "code",
   "execution_count": 28,
   "id": "79d38ae6",
   "metadata": {},
   "outputs": [
    {
     "data": {
      "text/plain": [
       "MannwhitneyuResult(statistic=95786286.5, pvalue=1.2255485818223303e-189)"
      ]
     },
     "execution_count": 28,
     "metadata": {},
     "output_type": "execute_result"
    }
   ],
   "source": [
    "stats.mannwhitneyu(credit_limit_no,credit_limit_yes)"
   ]
  },
  {
   "cell_type": "code",
   "execution_count": 29,
   "id": "ae61d3f2",
   "metadata": {},
   "outputs": [],
   "source": [
    "#Since P_val is less tan the sig_level we reject the null hypothesis and concluding that\n",
    "#the credit_limit & default are dependent."
   ]
  },
  {
   "cell_type": "markdown",
   "id": "d6b0028e",
   "metadata": {},
   "source": [
    "### age vs default"
   ]
  },
  {
   "cell_type": "code",
   "execution_count": 30,
   "id": "68a58c9f",
   "metadata": {},
   "outputs": [],
   "source": [
    "# Null : Data is normal\n",
    "# Altr : Data is not normal"
   ]
  },
  {
   "cell_type": "code",
   "execution_count": 31,
   "id": "718d929f",
   "metadata": {},
   "outputs": [
    {
     "data": {
      "text/plain": [
       "ShapiroResult(statistic=0.9499877691268921, pvalue=0.0)"
      ]
     },
     "execution_count": 31,
     "metadata": {},
     "output_type": "execute_result"
    }
   ],
   "source": [
    "stats.shapiro(df1['age'])"
   ]
  },
  {
   "cell_type": "code",
   "execution_count": 32,
   "id": "61939702",
   "metadata": {},
   "outputs": [],
   "source": [
    "# Since p_value is less than sig_level we conclude data is not normal."
   ]
  },
  {
   "cell_type": "code",
   "execution_count": 33,
   "id": "9b50a664",
   "metadata": {},
   "outputs": [],
   "source": [
    "## Non - Parametric Test \n",
    "\n",
    "# Null : age & default are Independent\n",
    "# ALTR : age & default are Dependent"
   ]
  },
  {
   "cell_type": "code",
   "execution_count": 34,
   "id": "b4a35108",
   "metadata": {},
   "outputs": [],
   "source": [
    "age_default_yes= df1[df1['default']=='yes']['age']\n",
    "age_default_no= df1[df1['default']=='no']['age']"
   ]
  },
  {
   "cell_type": "code",
   "execution_count": 35,
   "id": "8012d56d",
   "metadata": {},
   "outputs": [
    {
     "data": {
      "text/plain": [
       "MannwhitneyuResult(statistic=76966879.5, pvalue=0.3725035434898616)"
      ]
     },
     "execution_count": 35,
     "metadata": {},
     "output_type": "execute_result"
    }
   ],
   "source": [
    "stats.mannwhitneyu(age_default_no,age_default_yes)"
   ]
  },
  {
   "cell_type": "code",
   "execution_count": 36,
   "id": "02f917c6",
   "metadata": {},
   "outputs": [],
   "source": [
    "# Since p_value is greater than the sig_level we fail to reject null hypothesis and concluding that\n",
    "# the age & default are independent"
   ]
  },
  {
   "cell_type": "markdown",
   "id": "3dff28d8",
   "metadata": {},
   "source": [
    "### balance vs default\n",
    "\n",
    "balance_1,balance_2\t,balance_3,balance_4,balance_5,balance_6"
   ]
  },
  {
   "cell_type": "code",
   "execution_count": 37,
   "id": "3fe75dcf",
   "metadata": {},
   "outputs": [],
   "source": [
    "# Null : Data is normal\n",
    "# Altr : Data is not normal"
   ]
  },
  {
   "cell_type": "code",
   "execution_count": 38,
   "id": "8c528110",
   "metadata": {},
   "outputs": [
    {
     "name": "stdout",
     "output_type": "stream",
     "text": [
      "balance_1 ShapiroResult(statistic=0.6974822282791138, pvalue=0.0)\n",
      "balance_2 ShapiroResult(statistic=0.6953327059745789, pvalue=0.0)\n",
      "balance_3 ShapiroResult(statistic=0.6818559765815735, pvalue=0.0)\n",
      "balance_4 ShapiroResult(statistic=0.6816972494125366, pvalue=0.0)\n",
      "balance_5 ShapiroResult(statistic=0.6766496896743774, pvalue=0.0)\n",
      "balance_6 ShapiroResult(statistic=0.6759445667266846, pvalue=0.0)\n"
     ]
    }
   ],
   "source": [
    "balance=['balance_1','balance_2','balance_3','balance_4','balance_5','balance_6']\n",
    "for i in balance:\n",
    "    print(i,stats.shapiro(df1[i]))"
   ]
  },
  {
   "cell_type": "code",
   "execution_count": 39,
   "id": "085e276c",
   "metadata": {},
   "outputs": [],
   "source": [
    "# Since p_value is less than sig_level we conclude that data is not normal\n",
    "#for all balance_1,balance_2,balance_3,balance_4,balance_5,balance_6"
   ]
  },
  {
   "cell_type": "code",
   "execution_count": 40,
   "id": "6a5a0111",
   "metadata": {},
   "outputs": [],
   "source": [
    "## Non - Parametric Test \n",
    "\n",
    "# Null : balance_1,2,3,4,5,6 & default are Independent\n",
    "# ALTR : balance_1,2,3,4,5,6 & default are Dependent"
   ]
  },
  {
   "cell_type": "code",
   "execution_count": 41,
   "id": "c444da38",
   "metadata": {},
   "outputs": [
    {
     "name": "stdout",
     "output_type": "stream",
     "text": [
      "balance_1 MannwhitneyuResult(statistic=74791058.5, pvalue=1.1510381825298247e-05)\n",
      "balance_2 MannwhitneyuResult(statistic=75845011.0, pvalue=0.007061205045571093)\n",
      "balance_3 MannwhitneyuResult(statistic=76156098.5, pvalue=0.028202701361998515)\n",
      "balance_4 MannwhitneyuResult(statistic=76621117.5, pvalue=0.14776781853794307)\n",
      "balance_5 MannwhitneyuResult(statistic=76783544.0, pvalue=0.23536702261617015)\n",
      "balance_6 MannwhitneyuResult(statistic=77513553.0, pvalue=0.9894808402783662)\n"
     ]
    }
   ],
   "source": [
    "for i in balance:\n",
    "    default_yes=df1[df1['default']=='yes'][i]\n",
    "    default_no=df1[df1['default']=='no'][i]\n",
    "    print(i,stats.mannwhitneyu(default_yes,default_no))"
   ]
  },
  {
   "cell_type": "code",
   "execution_count": 42,
   "id": "c201431e",
   "metadata": {},
   "outputs": [],
   "source": [
    "# Since p_value is less than the sig_level we reject null hypothesis and concluding that\n",
    "# the balance_1 & default are dependent."
   ]
  },
  {
   "cell_type": "code",
   "execution_count": 43,
   "id": "834de18e",
   "metadata": {},
   "outputs": [],
   "source": [
    "# Since p_value is greater than the sig_level we fail to reject null hypothesis and concluding that\n",
    "# the balance_2,3,4,5,6 & default are independent"
   ]
  },
  {
   "cell_type": "markdown",
   "id": "58f9bd59",
   "metadata": {},
   "source": [
    "### payment vs default\n",
    "\n",
    "payment_1,payment_2,payment_3,payment_4,payment_5,payment_6"
   ]
  },
  {
   "cell_type": "code",
   "execution_count": 44,
   "id": "31f87873",
   "metadata": {},
   "outputs": [],
   "source": [
    "# Null : Data is normal\n",
    "# Altr : Data is not normal"
   ]
  },
  {
   "cell_type": "code",
   "execution_count": 45,
   "id": "d01e0119",
   "metadata": {},
   "outputs": [
    {
     "name": "stdout",
     "output_type": "stream",
     "text": [
      "payment_1 ShapiroResult(statistic=0.2652016282081604, pvalue=0.0)\n",
      "payment_2 ShapiroResult(statistic=0.17241019010543823, pvalue=0.0)\n",
      "payment_3 ShapiroResult(statistic=0.2318122386932373, pvalue=0.0)\n",
      "payment_4 ShapiroResult(statistic=0.25600308179855347, pvalue=0.0)\n",
      "payment_5 ShapiroResult(statistic=0.26412832736968994, pvalue=0.0)\n",
      "payment_6 ShapiroResult(statistic=0.251467764377594, pvalue=0.0)\n"
     ]
    }
   ],
   "source": [
    "payment=['payment_1','payment_2','payment_3','payment_4','payment_5','payment_6']\n",
    "for i in payment:\n",
    "    print(i,stats.shapiro(df1[i]))"
   ]
  },
  {
   "cell_type": "code",
   "execution_count": 46,
   "id": "b7f7484c",
   "metadata": {},
   "outputs": [],
   "source": [
    "# Since p_value is less than sig_level we conclude that data is not normal\n",
    "#for all payment_1,payment_2,payment_3,payment_4,payment_5,payment_6"
   ]
  },
  {
   "cell_type": "code",
   "execution_count": 47,
   "id": "b450076e",
   "metadata": {},
   "outputs": [],
   "source": [
    "## Non - Parametric Test \n",
    "\n",
    "# Null : payment_1,2,3,4,5,6 & default are Independent\n",
    "# ALTR : payment_1,2,3,4,5,6 & default are Dependent"
   ]
  },
  {
   "cell_type": "code",
   "execution_count": 48,
   "id": "03684d5f",
   "metadata": {},
   "outputs": [
    {
     "name": "stdout",
     "output_type": "stream",
     "text": [
      "payment_1 MannwhitneyuResult(statistic=60262771.0, pvalue=4.616659199185981e-170)\n",
      "payment_2 MannwhitneyuResult(statistic=61289748.0, pvalue=9.954975969253173e-151)\n",
      "payment_3 MannwhitneyuResult(statistic=62551544.5, pvalue=8.992708492430757e-129)\n",
      "payment_4 MannwhitneyuResult(statistic=63790208.5, pvalue=7.284694665069206e-109)\n",
      "payment_5 MannwhitneyuResult(statistic=65021456.0, pvalue=1.1248698832662903e-90)\n",
      "payment_6 MannwhitneyuResult(statistic=64517205.0, pvalue=3.1841165363473415e-98)\n"
     ]
    }
   ],
   "source": [
    "for i in payment:\n",
    "    default_yes=df[df1['default']=='yes'][i]\n",
    "    default_no=df[df1['default']=='no'][i]\n",
    "    print(i,stats.mannwhitneyu(default_yes,default_no))"
   ]
  },
  {
   "cell_type": "code",
   "execution_count": 49,
   "id": "3c79bd60",
   "metadata": {},
   "outputs": [],
   "source": [
    "# Since p_value is less than the sig_level we reject null hypothesis and concluding that\n",
    "# the balance_1,2,3,4,5,6 & default are dependent."
   ]
  },
  {
   "cell_type": "markdown",
   "id": "a9e0650e",
   "metadata": {},
   "source": [
    "## stat test--) cat vs cat"
   ]
  },
  {
   "cell_type": "markdown",
   "id": "e5c0413f",
   "metadata": {},
   "source": [
    "### gender vs default"
   ]
  },
  {
   "cell_type": "code",
   "execution_count": 50,
   "id": "5bad7f60",
   "metadata": {},
   "outputs": [],
   "source": [
    "# Null : gender vs default are Independent / gender has no impact on default\n",
    "\n",
    "# ALTR : gender vs default are Dependent / gender has Impact on default"
   ]
  },
  {
   "cell_type": "code",
   "execution_count": 51,
   "id": "6414bb24",
   "metadata": {},
   "outputs": [
    {
     "data": {
      "text/plain": [
       "4.944678999412026e-12"
      ]
     },
     "execution_count": 51,
     "metadata": {},
     "output_type": "execute_result"
    }
   ],
   "source": [
    "test_stat,P_value,Degrees_of_freedom,Exp_values = stats.chi2_contingency(pd.crosstab(df1['gender'],df1['default']))\n",
    "P_value"
   ]
  },
  {
   "cell_type": "code",
   "execution_count": 52,
   "id": "50929c69",
   "metadata": {},
   "outputs": [],
   "source": [
    "# Since P_val is less than the sig_level we reject the null hypothesis and conclude that \n",
    "# the gender has an impact on default."
   ]
  },
  {
   "cell_type": "markdown",
   "id": "b472132b",
   "metadata": {},
   "source": [
    "### education vs default"
   ]
  },
  {
   "cell_type": "code",
   "execution_count": 53,
   "id": "82bf7a2a",
   "metadata": {},
   "outputs": [],
   "source": [
    "# Null : education vs default are Independent / education has no impact on default\n",
    "\n",
    "# ALTR : education vs default are Dependent / education has Impact on default"
   ]
  },
  {
   "cell_type": "code",
   "execution_count": 54,
   "id": "0c55296d",
   "metadata": {},
   "outputs": [
    {
     "data": {
      "text/plain": [
       "1.4950645648106153e-34"
      ]
     },
     "execution_count": 54,
     "metadata": {},
     "output_type": "execute_result"
    }
   ],
   "source": [
    "test_stat,P_value,Degrees_of_freedom,Exp_values = stats.chi2_contingency(pd.crosstab(df1['education'],df1['default']))\n",
    "P_value"
   ]
  },
  {
   "cell_type": "code",
   "execution_count": 55,
   "id": "9411fb02",
   "metadata": {},
   "outputs": [],
   "source": [
    "# Since P_val is less than the sig_level we reject the null hypothesis and conclude that \n",
    "# the education has an impact on default."
   ]
  },
  {
   "cell_type": "markdown",
   "id": "d85b9411",
   "metadata": {},
   "source": [
    "### marital_status vs default"
   ]
  },
  {
   "cell_type": "code",
   "execution_count": 56,
   "id": "dfa08906",
   "metadata": {},
   "outputs": [],
   "source": [
    "# Null : marital_status vs default are Independent / marital_status has no impact on default\n",
    "\n",
    "# ALTR : marital_status vs default are Dependent / marital_status has Impact on default"
   ]
  },
  {
   "cell_type": "code",
   "execution_count": 57,
   "id": "5d0217ac",
   "metadata": {},
   "outputs": [
    {
     "data": {
      "text/plain": [
       "1.5126419390778658e-07"
      ]
     },
     "execution_count": 57,
     "metadata": {},
     "output_type": "execute_result"
    }
   ],
   "source": [
    "test_stat,P_value,Degrees_of_freedom,Exp_values = stats.chi2_contingency(pd.crosstab(df1['marital_status'],df1['default']))\n",
    "P_value"
   ]
  },
  {
   "cell_type": "code",
   "execution_count": 58,
   "id": "28529c98",
   "metadata": {},
   "outputs": [],
   "source": [
    "# Since P_val is less than the sig_level we reject the null hypothesis and conclude that \n",
    "# the marital_status has an impact on default."
   ]
  },
  {
   "cell_type": "code",
   "execution_count": 59,
   "id": "4ef44f81",
   "metadata": {},
   "outputs": [],
   "source": [
    "df2=df1.copy()"
   ]
  },
  {
   "cell_type": "markdown",
   "id": "0f341850",
   "metadata": {},
   "source": [
    "# EDA"
   ]
  },
  {
   "cell_type": "code",
   "execution_count": 60,
   "id": "70ae2dc1",
   "metadata": {},
   "outputs": [],
   "source": [
    "df2['default'].replace({'yes' : 1 , 'no' : 0},inplace=True)"
   ]
  },
  {
   "cell_type": "code",
   "execution_count": 61,
   "id": "adc1982e",
   "metadata": {},
   "outputs": [],
   "source": [
    "#'education'(1=graduate school; 2=university; 3=high school; 4=others) is used for encoding.\n",
    "df2['education'].replace(to_replace=['grad','uni','hs','others'],value=[1,2,3,4],inplace=True)"
   ]
  },
  {
   "cell_type": "code",
   "execution_count": 62,
   "id": "1d1f1b2f",
   "metadata": {},
   "outputs": [],
   "source": [
    "# from sklearn.preprocessing import OrdinalEncoder\n",
    "# df2['education']=OrdinalEncoder(categories=[['others','hs','grad','uni']]).fit_transform(df2['education'].values.reshape(-1,1))"
   ]
  },
  {
   "cell_type": "code",
   "execution_count": 63,
   "id": "74c92766",
   "metadata": {},
   "outputs": [],
   "source": [
    "#replaceing the timeliness_1,timeliness_2,timeliness_3,timeliness_4,timeliness_5,timeliness_6"
   ]
  },
  {
   "cell_type": "code",
   "execution_count": 64,
   "id": "1411f9fa",
   "metadata": {},
   "outputs": [],
   "source": [
    "#replacing the prefix from timeline feature\n",
    "df2.replace(to_replace=['m+8', 'm+7', 'm+6', 'm+5', 'm+4', 'm+3', 'm+2', 'm+1', 'm+0', 'm-1', 'm-2'],value=[8, 7, 6, 5, 4, 3, 2, 1, 0, -1, -2], inplace=True)"
   ]
  },
  {
   "cell_type": "code",
   "execution_count": 65,
   "id": "00e12fee",
   "metadata": {},
   "outputs": [],
   "source": [
    "# 'gender'(1=male; 0=female) is used for encoding.\n",
    "df2['gender'].replace({'male' : 1, 'female' : 0},inplace=True)"
   ]
  },
  {
   "cell_type": "code",
   "execution_count": 66,
   "id": "4641e50f",
   "metadata": {},
   "outputs": [],
   "source": [
    "# 'marital_status'(1=married; 2=single; 3=other) is used for encoding.\n",
    "df2['marital_status'].replace(to_replace=['married','single','other'],value=[1,2,3],inplace=True)"
   ]
  },
  {
   "cell_type": "code",
   "execution_count": 67,
   "id": "5b0dcf36",
   "metadata": {},
   "outputs": [],
   "source": [
    "df2.replace({-2:0,-1:0, 0:0, 1:1, 2:1, 3:1, 4:1, 5:1, 6:1, 7:1, 8:1}, inplace=True)"
   ]
  },
  {
   "cell_type": "code",
   "execution_count": 68,
   "id": "2c3de122",
   "metadata": {},
   "outputs": [],
   "source": [
    "df2['timeliness'] = df2['timeliness_1'] + df2['timeliness_2'] + df2['timeliness_3'] + df2['timeliness_4'] + df2['timeliness_5'] + df2['timeliness_1']"
   ]
  },
  {
   "cell_type": "code",
   "execution_count": 69,
   "id": "7031a89a",
   "metadata": {},
   "outputs": [],
   "source": [
    "li=[]\n",
    "for i in df2['timeliness'] :\n",
    "    if i > 0:\n",
    "        li.append(1)\n",
    "    else:\n",
    "        li.append(0)"
   ]
  },
  {
   "cell_type": "code",
   "execution_count": 70,
   "id": "939ebd83",
   "metadata": {},
   "outputs": [],
   "source": [
    "df2['Newtimeliness']=li"
   ]
  },
  {
   "cell_type": "code",
   "execution_count": 71,
   "id": "5526236b",
   "metadata": {},
   "outputs": [
    {
     "data": {
      "text/html": [
       "<div>\n",
       "<style scoped>\n",
       "    .dataframe tbody tr th:only-of-type {\n",
       "        vertical-align: middle;\n",
       "    }\n",
       "\n",
       "    .dataframe tbody tr th {\n",
       "        vertical-align: top;\n",
       "    }\n",
       "\n",
       "    .dataframe thead th {\n",
       "        text-align: right;\n",
       "    }\n",
       "</style>\n",
       "<table border=\"1\" class=\"dataframe\">\n",
       "  <thead>\n",
       "    <tr style=\"text-align: right;\">\n",
       "      <th></th>\n",
       "      <th>timeliness</th>\n",
       "      <th>Newtimeliness</th>\n",
       "    </tr>\n",
       "  </thead>\n",
       "  <tbody>\n",
       "    <tr>\n",
       "      <th>159</th>\n",
       "      <td>3</td>\n",
       "      <td>1</td>\n",
       "    </tr>\n",
       "    <tr>\n",
       "      <th>3568</th>\n",
       "      <td>2</td>\n",
       "      <td>1</td>\n",
       "    </tr>\n",
       "    <tr>\n",
       "      <th>23527</th>\n",
       "      <td>0</td>\n",
       "      <td>0</td>\n",
       "    </tr>\n",
       "    <tr>\n",
       "      <th>10201</th>\n",
       "      <td>3</td>\n",
       "      <td>1</td>\n",
       "    </tr>\n",
       "    <tr>\n",
       "      <th>10174</th>\n",
       "      <td>0</td>\n",
       "      <td>0</td>\n",
       "    </tr>\n",
       "  </tbody>\n",
       "</table>\n",
       "</div>"
      ],
      "text/plain": [
       "       timeliness  Newtimeliness\n",
       "159             3              1\n",
       "3568            2              1\n",
       "23527           0              0\n",
       "10201           3              1\n",
       "10174           0              0"
      ]
     },
     "execution_count": 71,
     "metadata": {},
     "output_type": "execute_result"
    }
   ],
   "source": [
    "df2[['timeliness','Newtimeliness']].sample(5)"
   ]
  },
  {
   "cell_type": "code",
   "execution_count": 72,
   "id": "010be3ca",
   "metadata": {},
   "outputs": [],
   "source": [
    "df2.drop(labels=['timeliness'],axis=1,inplace=True)"
   ]
  },
  {
   "cell_type": "code",
   "execution_count": 73,
   "id": "f3bc997c",
   "metadata": {},
   "outputs": [],
   "source": [
    "df2['balance_Value'] = df2['balance_1'] + df2['balance_2'] + df2['balance_3'] + df2['balance_4'] + df2['balance_5'] + df2['balance_6']"
   ]
  },
  {
   "cell_type": "code",
   "execution_count": 74,
   "id": "ca1d880a",
   "metadata": {},
   "outputs": [],
   "source": [
    "df2['payment_Value'] = df2['payment_1'] + df2['payment_2'] + df2['payment_3'] + df2['payment_4'] + df2['payment_5'] + df2['payment_6']"
   ]
  },
  {
   "cell_type": "code",
   "execution_count": 75,
   "id": "a50e8545",
   "metadata": {},
   "outputs": [],
   "source": [
    "x1=df2[['timeliness_1','timeliness_2','timeliness_3','timeliness_4','timeliness_5','timeliness_6','Newtimeliness']]"
   ]
  },
  {
   "cell_type": "code",
   "execution_count": 76,
   "id": "1d62eab3",
   "metadata": {},
   "outputs": [
    {
     "data": {
      "text/html": [
       "<div>\n",
       "<style scoped>\n",
       "    .dataframe tbody tr th:only-of-type {\n",
       "        vertical-align: middle;\n",
       "    }\n",
       "\n",
       "    .dataframe tbody tr th {\n",
       "        vertical-align: top;\n",
       "    }\n",
       "\n",
       "    .dataframe thead th {\n",
       "        text-align: right;\n",
       "    }\n",
       "</style>\n",
       "<table border=\"1\" class=\"dataframe\">\n",
       "  <thead>\n",
       "    <tr style=\"text-align: right;\">\n",
       "      <th></th>\n",
       "      <th>timeliness_1</th>\n",
       "      <th>timeliness_2</th>\n",
       "      <th>timeliness_3</th>\n",
       "      <th>timeliness_4</th>\n",
       "      <th>timeliness_5</th>\n",
       "      <th>timeliness_6</th>\n",
       "      <th>Newtimeliness</th>\n",
       "    </tr>\n",
       "  </thead>\n",
       "  <tbody>\n",
       "    <tr>\n",
       "      <th>timeliness_1</th>\n",
       "      <td>1.000000</td>\n",
       "      <td>0.668176</td>\n",
       "      <td>0.430527</td>\n",
       "      <td>0.371030</td>\n",
       "      <td>0.348587</td>\n",
       "      <td>0.309867</td>\n",
       "      <td>0.793289</td>\n",
       "    </tr>\n",
       "    <tr>\n",
       "      <th>timeliness_2</th>\n",
       "      <td>0.668176</td>\n",
       "      <td>1.000000</td>\n",
       "      <td>0.625247</td>\n",
       "      <td>0.478977</td>\n",
       "      <td>0.443047</td>\n",
       "      <td>0.397391</td>\n",
       "      <td>0.609501</td>\n",
       "    </tr>\n",
       "    <tr>\n",
       "      <th>timeliness_3</th>\n",
       "      <td>0.430527</td>\n",
       "      <td>0.625247</td>\n",
       "      <td>1.000000</td>\n",
       "      <td>0.625660</td>\n",
       "      <td>0.482382</td>\n",
       "      <td>0.434247</td>\n",
       "      <td>0.591253</td>\n",
       "    </tr>\n",
       "    <tr>\n",
       "      <th>timeliness_4</th>\n",
       "      <td>0.371030</td>\n",
       "      <td>0.478977</td>\n",
       "      <td>0.625660</td>\n",
       "      <td>1.000000</td>\n",
       "      <td>0.662637</td>\n",
       "      <td>0.496443</td>\n",
       "      <td>0.532465</td>\n",
       "    </tr>\n",
       "    <tr>\n",
       "      <th>timeliness_5</th>\n",
       "      <td>0.348587</td>\n",
       "      <td>0.443047</td>\n",
       "      <td>0.482382</td>\n",
       "      <td>0.662637</td>\n",
       "      <td>1.000000</td>\n",
       "      <td>0.662683</td>\n",
       "      <td>0.484698</td>\n",
       "    </tr>\n",
       "    <tr>\n",
       "      <th>timeliness_6</th>\n",
       "      <td>0.309867</td>\n",
       "      <td>0.397391</td>\n",
       "      <td>0.434247</td>\n",
       "      <td>0.496443</td>\n",
       "      <td>0.662683</td>\n",
       "      <td>1.000000</td>\n",
       "      <td>0.373517</td>\n",
       "    </tr>\n",
       "    <tr>\n",
       "      <th>Newtimeliness</th>\n",
       "      <td>0.793289</td>\n",
       "      <td>0.609501</td>\n",
       "      <td>0.591253</td>\n",
       "      <td>0.532465</td>\n",
       "      <td>0.484698</td>\n",
       "      <td>0.373517</td>\n",
       "      <td>1.000000</td>\n",
       "    </tr>\n",
       "  </tbody>\n",
       "</table>\n",
       "</div>"
      ],
      "text/plain": [
       "               timeliness_1  timeliness_2  timeliness_3  timeliness_4  \\\n",
       "timeliness_1       1.000000      0.668176      0.430527      0.371030   \n",
       "timeliness_2       0.668176      1.000000      0.625247      0.478977   \n",
       "timeliness_3       0.430527      0.625247      1.000000      0.625660   \n",
       "timeliness_4       0.371030      0.478977      0.625660      1.000000   \n",
       "timeliness_5       0.348587      0.443047      0.482382      0.662637   \n",
       "timeliness_6       0.309867      0.397391      0.434247      0.496443   \n",
       "Newtimeliness      0.793289      0.609501      0.591253      0.532465   \n",
       "\n",
       "               timeliness_5  timeliness_6  Newtimeliness  \n",
       "timeliness_1       0.348587      0.309867       0.793289  \n",
       "timeliness_2       0.443047      0.397391       0.609501  \n",
       "timeliness_3       0.482382      0.434247       0.591253  \n",
       "timeliness_4       0.662637      0.496443       0.532465  \n",
       "timeliness_5       1.000000      0.662683       0.484698  \n",
       "timeliness_6       0.662683      1.000000       0.373517  \n",
       "Newtimeliness      0.484698      0.373517       1.000000  "
      ]
     },
     "execution_count": 76,
     "metadata": {},
     "output_type": "execute_result"
    }
   ],
   "source": [
    "x1.corr()"
   ]
  },
  {
   "cell_type": "code",
   "execution_count": 77,
   "id": "c24e659b",
   "metadata": {},
   "outputs": [],
   "source": [
    "x2=df2[['balance_1','balance_2','balance_3','balance_4','balance_5','balance_6','balance_Value']]"
   ]
  },
  {
   "cell_type": "code",
   "execution_count": 78,
   "id": "83333a7c",
   "metadata": {},
   "outputs": [
    {
     "data": {
      "text/html": [
       "<div>\n",
       "<style scoped>\n",
       "    .dataframe tbody tr th:only-of-type {\n",
       "        vertical-align: middle;\n",
       "    }\n",
       "\n",
       "    .dataframe tbody tr th {\n",
       "        vertical-align: top;\n",
       "    }\n",
       "\n",
       "    .dataframe thead th {\n",
       "        text-align: right;\n",
       "    }\n",
       "</style>\n",
       "<table border=\"1\" class=\"dataframe\">\n",
       "  <thead>\n",
       "    <tr style=\"text-align: right;\">\n",
       "      <th></th>\n",
       "      <th>balance_1</th>\n",
       "      <th>balance_2</th>\n",
       "      <th>balance_3</th>\n",
       "      <th>balance_4</th>\n",
       "      <th>balance_5</th>\n",
       "      <th>balance_6</th>\n",
       "      <th>balance_Value</th>\n",
       "    </tr>\n",
       "  </thead>\n",
       "  <tbody>\n",
       "    <tr>\n",
       "      <th>balance_1</th>\n",
       "      <td>1.000000</td>\n",
       "      <td>0.951484</td>\n",
       "      <td>0.892279</td>\n",
       "      <td>0.860272</td>\n",
       "      <td>0.829779</td>\n",
       "      <td>0.802650</td>\n",
       "      <td>0.940100</td>\n",
       "    </tr>\n",
       "    <tr>\n",
       "      <th>balance_2</th>\n",
       "      <td>0.951484</td>\n",
       "      <td>1.000000</td>\n",
       "      <td>0.928326</td>\n",
       "      <td>0.892482</td>\n",
       "      <td>0.859778</td>\n",
       "      <td>0.831594</td>\n",
       "      <td>0.961178</td>\n",
       "    </tr>\n",
       "    <tr>\n",
       "      <th>balance_3</th>\n",
       "      <td>0.892279</td>\n",
       "      <td>0.928326</td>\n",
       "      <td>1.000000</td>\n",
       "      <td>0.923969</td>\n",
       "      <td>0.883910</td>\n",
       "      <td>0.853320</td>\n",
       "      <td>0.961958</td>\n",
       "    </tr>\n",
       "    <tr>\n",
       "      <th>balance_4</th>\n",
       "      <td>0.860272</td>\n",
       "      <td>0.892482</td>\n",
       "      <td>0.923969</td>\n",
       "      <td>1.000000</td>\n",
       "      <td>0.940134</td>\n",
       "      <td>0.900941</td>\n",
       "      <td>0.964501</td>\n",
       "    </tr>\n",
       "    <tr>\n",
       "      <th>balance_5</th>\n",
       "      <td>0.829779</td>\n",
       "      <td>0.859778</td>\n",
       "      <td>0.883910</td>\n",
       "      <td>0.940134</td>\n",
       "      <td>1.000000</td>\n",
       "      <td>0.946197</td>\n",
       "      <td>0.951676</td>\n",
       "    </tr>\n",
       "    <tr>\n",
       "      <th>balance_6</th>\n",
       "      <td>0.802650</td>\n",
       "      <td>0.831594</td>\n",
       "      <td>0.853320</td>\n",
       "      <td>0.900941</td>\n",
       "      <td>0.946197</td>\n",
       "      <td>1.000000</td>\n",
       "      <td>0.928720</td>\n",
       "    </tr>\n",
       "    <tr>\n",
       "      <th>balance_Value</th>\n",
       "      <td>0.940100</td>\n",
       "      <td>0.961178</td>\n",
       "      <td>0.961958</td>\n",
       "      <td>0.964501</td>\n",
       "      <td>0.951676</td>\n",
       "      <td>0.928720</td>\n",
       "      <td>1.000000</td>\n",
       "    </tr>\n",
       "  </tbody>\n",
       "</table>\n",
       "</div>"
      ],
      "text/plain": [
       "               balance_1  balance_2  balance_3  balance_4  balance_5  \\\n",
       "balance_1       1.000000   0.951484   0.892279   0.860272   0.829779   \n",
       "balance_2       0.951484   1.000000   0.928326   0.892482   0.859778   \n",
       "balance_3       0.892279   0.928326   1.000000   0.923969   0.883910   \n",
       "balance_4       0.860272   0.892482   0.923969   1.000000   0.940134   \n",
       "balance_5       0.829779   0.859778   0.883910   0.940134   1.000000   \n",
       "balance_6       0.802650   0.831594   0.853320   0.900941   0.946197   \n",
       "balance_Value   0.940100   0.961178   0.961958   0.964501   0.951676   \n",
       "\n",
       "               balance_6  balance_Value  \n",
       "balance_1       0.802650       0.940100  \n",
       "balance_2       0.831594       0.961178  \n",
       "balance_3       0.853320       0.961958  \n",
       "balance_4       0.900941       0.964501  \n",
       "balance_5       0.946197       0.951676  \n",
       "balance_6       1.000000       0.928720  \n",
       "balance_Value   0.928720       1.000000  "
      ]
     },
     "execution_count": 78,
     "metadata": {},
     "output_type": "execute_result"
    }
   ],
   "source": [
    "x2.corr()"
   ]
  },
  {
   "cell_type": "code",
   "execution_count": 79,
   "id": "274e0b1b",
   "metadata": {},
   "outputs": [],
   "source": [
    "x3=df2[['payment_1','payment_2','payment_3','payment_4','payment_5','payment_6','payment_Value']]"
   ]
  },
  {
   "cell_type": "code",
   "execution_count": 80,
   "id": "89af61ea",
   "metadata": {},
   "outputs": [
    {
     "data": {
      "text/html": [
       "<div>\n",
       "<style scoped>\n",
       "    .dataframe tbody tr th:only-of-type {\n",
       "        vertical-align: middle;\n",
       "    }\n",
       "\n",
       "    .dataframe tbody tr th {\n",
       "        vertical-align: top;\n",
       "    }\n",
       "\n",
       "    .dataframe thead th {\n",
       "        text-align: right;\n",
       "    }\n",
       "</style>\n",
       "<table border=\"1\" class=\"dataframe\">\n",
       "  <thead>\n",
       "    <tr style=\"text-align: right;\">\n",
       "      <th></th>\n",
       "      <th>payment_1</th>\n",
       "      <th>payment_2</th>\n",
       "      <th>payment_3</th>\n",
       "      <th>payment_4</th>\n",
       "      <th>payment_5</th>\n",
       "      <th>payment_6</th>\n",
       "      <th>payment_Value</th>\n",
       "    </tr>\n",
       "  </thead>\n",
       "  <tbody>\n",
       "    <tr>\n",
       "      <th>payment_1</th>\n",
       "      <td>1.000000</td>\n",
       "      <td>0.285575</td>\n",
       "      <td>0.252191</td>\n",
       "      <td>0.199558</td>\n",
       "      <td>0.148459</td>\n",
       "      <td>0.185735</td>\n",
       "      <td>0.596438</td>\n",
       "    </tr>\n",
       "    <tr>\n",
       "      <th>payment_2</th>\n",
       "      <td>0.285575</td>\n",
       "      <td>1.000000</td>\n",
       "      <td>0.244770</td>\n",
       "      <td>0.180107</td>\n",
       "      <td>0.180908</td>\n",
       "      <td>0.157634</td>\n",
       "      <td>0.665297</td>\n",
       "    </tr>\n",
       "    <tr>\n",
       "      <th>payment_3</th>\n",
       "      <td>0.252191</td>\n",
       "      <td>0.244770</td>\n",
       "      <td>1.000000</td>\n",
       "      <td>0.216325</td>\n",
       "      <td>0.159214</td>\n",
       "      <td>0.162740</td>\n",
       "      <td>0.594111</td>\n",
       "    </tr>\n",
       "    <tr>\n",
       "      <th>payment_4</th>\n",
       "      <td>0.199558</td>\n",
       "      <td>0.180107</td>\n",
       "      <td>0.216325</td>\n",
       "      <td>1.000000</td>\n",
       "      <td>0.151830</td>\n",
       "      <td>0.157834</td>\n",
       "      <td>0.526993</td>\n",
       "    </tr>\n",
       "    <tr>\n",
       "      <th>payment_5</th>\n",
       "      <td>0.148459</td>\n",
       "      <td>0.180908</td>\n",
       "      <td>0.159214</td>\n",
       "      <td>0.151830</td>\n",
       "      <td>1.000000</td>\n",
       "      <td>0.154895</td>\n",
       "      <td>0.490584</td>\n",
       "    </tr>\n",
       "    <tr>\n",
       "      <th>payment_6</th>\n",
       "      <td>0.185735</td>\n",
       "      <td>0.157634</td>\n",
       "      <td>0.162740</td>\n",
       "      <td>0.157834</td>\n",
       "      <td>0.154895</td>\n",
       "      <td>1.000000</td>\n",
       "      <td>0.529207</td>\n",
       "    </tr>\n",
       "    <tr>\n",
       "      <th>payment_Value</th>\n",
       "      <td>0.596438</td>\n",
       "      <td>0.665297</td>\n",
       "      <td>0.594111</td>\n",
       "      <td>0.526993</td>\n",
       "      <td>0.490584</td>\n",
       "      <td>0.529207</td>\n",
       "      <td>1.000000</td>\n",
       "    </tr>\n",
       "  </tbody>\n",
       "</table>\n",
       "</div>"
      ],
      "text/plain": [
       "               payment_1  payment_2  payment_3  payment_4  payment_5  \\\n",
       "payment_1       1.000000   0.285575   0.252191   0.199558   0.148459   \n",
       "payment_2       0.285575   1.000000   0.244770   0.180107   0.180908   \n",
       "payment_3       0.252191   0.244770   1.000000   0.216325   0.159214   \n",
       "payment_4       0.199558   0.180107   0.216325   1.000000   0.151830   \n",
       "payment_5       0.148459   0.180908   0.159214   0.151830   1.000000   \n",
       "payment_6       0.185735   0.157634   0.162740   0.157834   0.154895   \n",
       "payment_Value   0.596438   0.665297   0.594111   0.526993   0.490584   \n",
       "\n",
       "               payment_6  payment_Value  \n",
       "payment_1       0.185735       0.596438  \n",
       "payment_2       0.157634       0.665297  \n",
       "payment_3       0.162740       0.594111  \n",
       "payment_4       0.157834       0.526993  \n",
       "payment_5       0.154895       0.490584  \n",
       "payment_6       1.000000       0.529207  \n",
       "payment_Value   0.529207       1.000000  "
      ]
     },
     "execution_count": 80,
     "metadata": {},
     "output_type": "execute_result"
    }
   ],
   "source": [
    "x3.corr()"
   ]
  },
  {
   "cell_type": "code",
   "execution_count": 81,
   "id": "9234bb7c",
   "metadata": {},
   "outputs": [
    {
     "data": {
      "text/html": [
       "<div>\n",
       "<style scoped>\n",
       "    .dataframe tbody tr th:only-of-type {\n",
       "        vertical-align: middle;\n",
       "    }\n",
       "\n",
       "    .dataframe tbody tr th {\n",
       "        vertical-align: top;\n",
       "    }\n",
       "\n",
       "    .dataframe thead th {\n",
       "        text-align: right;\n",
       "    }\n",
       "</style>\n",
       "<table border=\"1\" class=\"dataframe\">\n",
       "  <thead>\n",
       "    <tr style=\"text-align: right;\">\n",
       "      <th></th>\n",
       "      <th>credit_limit</th>\n",
       "      <th>gender</th>\n",
       "      <th>education</th>\n",
       "      <th>marital_status</th>\n",
       "      <th>age</th>\n",
       "      <th>timeliness_1</th>\n",
       "      <th>timeliness_2</th>\n",
       "      <th>timeliness_3</th>\n",
       "      <th>timeliness_4</th>\n",
       "      <th>timeliness_5</th>\n",
       "      <th>timeliness_6</th>\n",
       "      <th>balance_1</th>\n",
       "      <th>balance_2</th>\n",
       "      <th>balance_3</th>\n",
       "      <th>balance_4</th>\n",
       "      <th>balance_5</th>\n",
       "      <th>balance_6</th>\n",
       "      <th>payment_1</th>\n",
       "      <th>payment_2</th>\n",
       "      <th>payment_3</th>\n",
       "      <th>payment_4</th>\n",
       "      <th>payment_5</th>\n",
       "      <th>payment_6</th>\n",
       "      <th>avg_balance</th>\n",
       "      <th>avg_payment</th>\n",
       "      <th>default</th>\n",
       "      <th>Newtimeliness</th>\n",
       "      <th>balance_Value</th>\n",
       "      <th>payment_Value</th>\n",
       "    </tr>\n",
       "  </thead>\n",
       "  <tbody>\n",
       "    <tr>\n",
       "      <th>0</th>\n",
       "      <td>20000</td>\n",
       "      <td>0</td>\n",
       "      <td>1</td>\n",
       "      <td>1</td>\n",
       "      <td>24</td>\n",
       "      <td>1</td>\n",
       "      <td>1</td>\n",
       "      <td>0</td>\n",
       "      <td>0</td>\n",
       "      <td>0</td>\n",
       "      <td>0</td>\n",
       "      <td>3913</td>\n",
       "      <td>3102</td>\n",
       "      <td>689</td>\n",
       "      <td>0</td>\n",
       "      <td>0</td>\n",
       "      <td>0</td>\n",
       "      <td>0</td>\n",
       "      <td>689</td>\n",
       "      <td>0</td>\n",
       "      <td>0</td>\n",
       "      <td>0</td>\n",
       "      <td>0</td>\n",
       "      <td>1284.000000</td>\n",
       "      <td>114.833333</td>\n",
       "      <td>1</td>\n",
       "      <td>1</td>\n",
       "      <td>7704</td>\n",
       "      <td>689</td>\n",
       "    </tr>\n",
       "    <tr>\n",
       "      <th>1</th>\n",
       "      <td>120000</td>\n",
       "      <td>0</td>\n",
       "      <td>1</td>\n",
       "      <td>1</td>\n",
       "      <td>26</td>\n",
       "      <td>0</td>\n",
       "      <td>1</td>\n",
       "      <td>0</td>\n",
       "      <td>0</td>\n",
       "      <td>0</td>\n",
       "      <td>1</td>\n",
       "      <td>2682</td>\n",
       "      <td>1725</td>\n",
       "      <td>2682</td>\n",
       "      <td>3272</td>\n",
       "      <td>3455</td>\n",
       "      <td>3261</td>\n",
       "      <td>0</td>\n",
       "      <td>1000</td>\n",
       "      <td>1000</td>\n",
       "      <td>1000</td>\n",
       "      <td>0</td>\n",
       "      <td>2000</td>\n",
       "      <td>2846.166667</td>\n",
       "      <td>833.333333</td>\n",
       "      <td>1</td>\n",
       "      <td>1</td>\n",
       "      <td>17077</td>\n",
       "      <td>5000</td>\n",
       "    </tr>\n",
       "    <tr>\n",
       "      <th>2</th>\n",
       "      <td>90000</td>\n",
       "      <td>0</td>\n",
       "      <td>1</td>\n",
       "      <td>1</td>\n",
       "      <td>34</td>\n",
       "      <td>0</td>\n",
       "      <td>0</td>\n",
       "      <td>0</td>\n",
       "      <td>0</td>\n",
       "      <td>0</td>\n",
       "      <td>0</td>\n",
       "      <td>29239</td>\n",
       "      <td>14027</td>\n",
       "      <td>13559</td>\n",
       "      <td>14331</td>\n",
       "      <td>14948</td>\n",
       "      <td>15549</td>\n",
       "      <td>1518</td>\n",
       "      <td>1500</td>\n",
       "      <td>1000</td>\n",
       "      <td>1000</td>\n",
       "      <td>1000</td>\n",
       "      <td>5000</td>\n",
       "      <td>16942.166667</td>\n",
       "      <td>1836.333333</td>\n",
       "      <td>0</td>\n",
       "      <td>0</td>\n",
       "      <td>101653</td>\n",
       "      <td>11018</td>\n",
       "    </tr>\n",
       "    <tr>\n",
       "      <th>3</th>\n",
       "      <td>50000</td>\n",
       "      <td>0</td>\n",
       "      <td>1</td>\n",
       "      <td>1</td>\n",
       "      <td>37</td>\n",
       "      <td>0</td>\n",
       "      <td>0</td>\n",
       "      <td>0</td>\n",
       "      <td>0</td>\n",
       "      <td>0</td>\n",
       "      <td>0</td>\n",
       "      <td>46990</td>\n",
       "      <td>48233</td>\n",
       "      <td>49291</td>\n",
       "      <td>28314</td>\n",
       "      <td>28959</td>\n",
       "      <td>29547</td>\n",
       "      <td>2000</td>\n",
       "      <td>2019</td>\n",
       "      <td>1200</td>\n",
       "      <td>1100</td>\n",
       "      <td>1069</td>\n",
       "      <td>1000</td>\n",
       "      <td>38555.666667</td>\n",
       "      <td>1398.000000</td>\n",
       "      <td>0</td>\n",
       "      <td>0</td>\n",
       "      <td>231334</td>\n",
       "      <td>8388</td>\n",
       "    </tr>\n",
       "    <tr>\n",
       "      <th>4</th>\n",
       "      <td>50000</td>\n",
       "      <td>1</td>\n",
       "      <td>1</td>\n",
       "      <td>1</td>\n",
       "      <td>57</td>\n",
       "      <td>0</td>\n",
       "      <td>0</td>\n",
       "      <td>0</td>\n",
       "      <td>0</td>\n",
       "      <td>0</td>\n",
       "      <td>0</td>\n",
       "      <td>8617</td>\n",
       "      <td>5670</td>\n",
       "      <td>35835</td>\n",
       "      <td>20940</td>\n",
       "      <td>19146</td>\n",
       "      <td>19131</td>\n",
       "      <td>2000</td>\n",
       "      <td>36681</td>\n",
       "      <td>10000</td>\n",
       "      <td>9000</td>\n",
       "      <td>689</td>\n",
       "      <td>679</td>\n",
       "      <td>18223.166667</td>\n",
       "      <td>9841.500000</td>\n",
       "      <td>0</td>\n",
       "      <td>0</td>\n",
       "      <td>109339</td>\n",
       "      <td>59049</td>\n",
       "    </tr>\n",
       "  </tbody>\n",
       "</table>\n",
       "</div>"
      ],
      "text/plain": [
       "   credit_limit  gender  education  marital_status  age  timeliness_1  \\\n",
       "0         20000       0          1               1   24             1   \n",
       "1        120000       0          1               1   26             0   \n",
       "2         90000       0          1               1   34             0   \n",
       "3         50000       0          1               1   37             0   \n",
       "4         50000       1          1               1   57             0   \n",
       "\n",
       "   timeliness_2  timeliness_3  timeliness_4  timeliness_5  timeliness_6  \\\n",
       "0             1             0             0             0             0   \n",
       "1             1             0             0             0             1   \n",
       "2             0             0             0             0             0   \n",
       "3             0             0             0             0             0   \n",
       "4             0             0             0             0             0   \n",
       "\n",
       "   balance_1  balance_2  balance_3  balance_4  balance_5  balance_6  \\\n",
       "0       3913       3102        689          0          0          0   \n",
       "1       2682       1725       2682       3272       3455       3261   \n",
       "2      29239      14027      13559      14331      14948      15549   \n",
       "3      46990      48233      49291      28314      28959      29547   \n",
       "4       8617       5670      35835      20940      19146      19131   \n",
       "\n",
       "   payment_1  payment_2  payment_3  payment_4  payment_5  payment_6  \\\n",
       "0          0        689          0          0          0          0   \n",
       "1          0       1000       1000       1000          0       2000   \n",
       "2       1518       1500       1000       1000       1000       5000   \n",
       "3       2000       2019       1200       1100       1069       1000   \n",
       "4       2000      36681      10000       9000        689        679   \n",
       "\n",
       "    avg_balance  avg_payment  default  Newtimeliness  balance_Value  \\\n",
       "0   1284.000000   114.833333        1              1           7704   \n",
       "1   2846.166667   833.333333        1              1          17077   \n",
       "2  16942.166667  1836.333333        0              0         101653   \n",
       "3  38555.666667  1398.000000        0              0         231334   \n",
       "4  18223.166667  9841.500000        0              0         109339   \n",
       "\n",
       "   payment_Value  \n",
       "0            689  \n",
       "1           5000  \n",
       "2          11018  \n",
       "3           8388  \n",
       "4          59049  "
      ]
     },
     "execution_count": 81,
     "metadata": {},
     "output_type": "execute_result"
    }
   ],
   "source": [
    "df2.head()"
   ]
  },
  {
   "cell_type": "code",
   "execution_count": 82,
   "id": "b827abaf",
   "metadata": {},
   "outputs": [],
   "source": [
    "df3=df2.drop(labels=['timeliness_1','timeliness_2','timeliness_3','timeliness_4','timeliness_5','timeliness_6',\n",
    "                    'balance_1','balance_2','balance_3','balance_4','balance_5','balance_6','payment_1','payment_2',\n",
    "                    'payment_3','payment_4','payment_5','payment_6'],axis=1)"
   ]
  },
  {
   "cell_type": "code",
   "execution_count": 83,
   "id": "253df5b7",
   "metadata": {},
   "outputs": [],
   "source": [
    "# df3"
   ]
  },
  {
   "cell_type": "code",
   "execution_count": 84,
   "id": "459ed33d",
   "metadata": {},
   "outputs": [],
   "source": [
    "X=df2.drop(labels=['default'],axis=1)\n",
    "y=df2['default']"
   ]
  },
  {
   "cell_type": "code",
   "execution_count": 85,
   "id": "24d26de7",
   "metadata": {},
   "outputs": [
    {
     "name": "stdout",
     "output_type": "stream",
     "text": [
      "X.shape (30000, 28)\n",
      "y_shape (30000,)\n"
     ]
    }
   ],
   "source": [
    "print('X.shape',X.shape)\n",
    "print('y_shape',y.shape)"
   ]
  },
  {
   "cell_type": "code",
   "execution_count": 86,
   "id": "73a911ed",
   "metadata": {},
   "outputs": [],
   "source": [
    "X_train,X_test,y_train,y_test = train_test_split(X, y,train_size=0.80,test_size=0.20,random_state=42)"
   ]
  },
  {
   "cell_type": "code",
   "execution_count": 87,
   "id": "772e8259",
   "metadata": {},
   "outputs": [
    {
     "name": "stdout",
     "output_type": "stream",
     "text": [
      "X_train (24000, 28)\n",
      "X_test (6000, 28)\n",
      "y_train (24000,)\n",
      "y_test (6000,)\n"
     ]
    }
   ],
   "source": [
    "print('X_train',X_train.shape)\n",
    "print('X_test',X_test.shape)\n",
    "print('y_train',y_train.shape)\n",
    "print('y_test',y_test.shape)"
   ]
  },
  {
   "cell_type": "markdown",
   "id": "ab9a6742",
   "metadata": {},
   "source": [
    "# Function"
   ]
  },
  {
   "cell_type": "code",
   "execution_count": 88,
   "id": "83155d3a",
   "metadata": {},
   "outputs": [],
   "source": [
    "score_card = pd.DataFrame(columns=['Model Name', 'AUC Score', 'Precision Score', 'Recall Score',\n",
    "                                       'Accuracy Score', 'f1-score'])\n",
    "def update_score_card (model, y_test,y_pred):\n",
    "    global score_card\n",
    "\n",
    "    score_card=score_card.append({'Model Name': model,\n",
    "                                    'AUC Score' : metrics.roc_auc_score(y_test, y_pred),\n",
    "                                    'Precision Score': metrics.precision_score(y_test, y_pred),\n",
    "                                    'Recall Score': metrics.recall_score(y_test, y_pred),\n",
    "                                    'Accuracy Score': metrics.accuracy_score(y_test, y_pred),\n",
    "                                    'f1-score': metrics.f1_score(y_test, y_pred)}, \n",
    "                                    ignore_index = True)"
   ]
  },
  {
   "cell_type": "markdown",
   "id": "c1cdaac5",
   "metadata": {},
   "source": [
    "# DecisionTree"
   ]
  },
  {
   "cell_type": "code",
   "execution_count": 89,
   "id": "77f90f17",
   "metadata": {},
   "outputs": [
    {
     "name": "stdout",
     "output_type": "stream",
     "text": [
      "TRAIN REPORT:\n",
      "               precision    recall  f1-score   support\n",
      "\n",
      "           0       1.00      1.00      1.00     18678\n",
      "           1       1.00      0.99      1.00      5322\n",
      "\n",
      "    accuracy                           1.00     24000\n",
      "   macro avg       1.00      1.00      1.00     24000\n",
      "weighted avg       1.00      1.00      1.00     24000\n",
      "\n",
      "TEST REPORT:\n",
      "               precision    recall  f1-score   support\n",
      "\n",
      "           0       0.83      0.81      0.82      4686\n",
      "           1       0.37      0.39      0.38      1314\n",
      "\n",
      "    accuracy                           0.72      6000\n",
      "   macro avg       0.60      0.60      0.60      6000\n",
      "weighted avg       0.73      0.72      0.72      6000\n",
      "\n"
     ]
    }
   ],
   "source": [
    "decision_tree_classification = DecisionTreeClassifier(criterion = 'gini', random_state = 42)\n",
    "decision_tree = decision_tree_classification.fit(X_train, y_train)\n",
    "train_pred = decision_tree.predict(X_train)\n",
    "test_pred = decision_tree.predict(X_test)\n",
    "\n",
    "update_score_card('Decision Tree_train', y_train,train_pred)\n",
    "update_score_card('Decision Tree_test', y_test,test_pred)\n",
    "\n",
    "print(\"TRAIN REPORT:\\n\",classification_report(y_train, train_pred))  \n",
    "print(\"TEST REPORT:\\n\",classification_report(y_test, test_pred))"
   ]
  },
  {
   "cell_type": "markdown",
   "id": "2ab26957",
   "metadata": {},
   "source": [
    "# RandomForest"
   ]
  },
  {
   "cell_type": "code",
   "execution_count": 90,
   "id": "89d51b69",
   "metadata": {},
   "outputs": [
    {
     "name": "stdout",
     "output_type": "stream",
     "text": [
      "TRAIN REPORT:\n",
      "               precision    recall  f1-score   support\n",
      "\n",
      "           0       1.00      1.00      1.00     18678\n",
      "           1       1.00      1.00      1.00      5322\n",
      "\n",
      "    accuracy                           1.00     24000\n",
      "   macro avg       1.00      1.00      1.00     24000\n",
      "weighted avg       1.00      1.00      1.00     24000\n",
      "\n",
      "TEST REPORT:\n",
      "               precision    recall  f1-score   support\n",
      "\n",
      "           0       0.84      0.93      0.89      4686\n",
      "           1       0.61      0.37      0.46      1314\n",
      "\n",
      "    accuracy                           0.81      6000\n",
      "   macro avg       0.73      0.65      0.67      6000\n",
      "weighted avg       0.79      0.81      0.79      6000\n",
      "\n"
     ]
    }
   ],
   "source": [
    "rf = RandomForestClassifier(n_estimators = 250, random_state = 42)\n",
    "rf_model = rf.fit(X_train, y_train)\n",
    "train_pred = rf_model.predict(X_train)\n",
    "test_pred = rf_model.predict(X_test)\n",
    "\n",
    "update_score_card('RandomForest_train', y_train,train_pred)\n",
    "update_score_card('RandomForest_test', y_test,test_pred)\n",
    "\n",
    "print(\"TRAIN REPORT:\\n\",classification_report(y_train, train_pred))  \n",
    "print(\"TEST REPORT:\\n\",classification_report(y_test, test_pred))"
   ]
  },
  {
   "cell_type": "markdown",
   "id": "33be94f9",
   "metadata": {},
   "source": [
    "# AdaBoost"
   ]
  },
  {
   "cell_type": "code",
   "execution_count": 91,
   "id": "feeadad6",
   "metadata": {},
   "outputs": [
    {
     "name": "stdout",
     "output_type": "stream",
     "text": [
      "TRAIN REPORT:\n",
      "               precision    recall  f1-score   support\n",
      "\n",
      "           0       0.83      0.94      0.89     18678\n",
      "           1       0.63      0.34      0.44      5322\n",
      "\n",
      "    accuracy                           0.81     24000\n",
      "   macro avg       0.73      0.64      0.66     24000\n",
      "weighted avg       0.79      0.81      0.79     24000\n",
      "\n",
      "TEST REPORT:\n",
      "               precision    recall  f1-score   support\n",
      "\n",
      "           0       0.83      0.94      0.88      4686\n",
      "           1       0.61      0.34      0.43      1314\n",
      "\n",
      "    accuracy                           0.81      6000\n",
      "   macro avg       0.72      0.64      0.66      6000\n",
      "weighted avg       0.78      0.81      0.78      6000\n",
      "\n"
     ]
    }
   ],
   "source": [
    "adaboost = AdaBoostClassifier(n_estimators = 300, random_state = 42)\n",
    "ada_model=adaboost.fit(X_train, y_train)\n",
    "\n",
    "train_pred = ada_model.predict(X_train)\n",
    "test_pred = ada_model.predict(X_test)\n",
    "\n",
    "update_score_card('AdaBoost_train', y_train,train_pred)\n",
    "update_score_card('AdaBoost_test', y_test,test_pred)\n",
    "\n",
    "print(\"TRAIN REPORT:\\n\",classification_report(y_train, train_pred))  \n",
    "print(\"TEST REPORT:\\n\",classification_report(y_test, test_pred))"
   ]
  },
  {
   "cell_type": "markdown",
   "id": "89565381",
   "metadata": {},
   "source": [
    "# GradientBoost"
   ]
  },
  {
   "cell_type": "code",
   "execution_count": 92,
   "id": "7d0fea76",
   "metadata": {},
   "outputs": [
    {
     "name": "stdout",
     "output_type": "stream",
     "text": [
      "TRAIN REPORT:\n",
      "               precision    recall  f1-score   support\n",
      "\n",
      "           0       0.97      1.00      0.98     18678\n",
      "           1       1.00      0.89      0.94      5322\n",
      "\n",
      "    accuracy                           0.97     24000\n",
      "   macro avg       0.98      0.94      0.96     24000\n",
      "weighted avg       0.98      0.97      0.97     24000\n",
      "\n",
      "TEST REPORT:\n",
      "               precision    recall  f1-score   support\n",
      "\n",
      "           0       0.84      0.93      0.88      4686\n",
      "           1       0.58      0.36      0.45      1314\n",
      "\n",
      "    accuracy                           0.80      6000\n",
      "   macro avg       0.71      0.65      0.66      6000\n",
      "weighted avg       0.78      0.80      0.79      6000\n",
      "\n"
     ]
    }
   ],
   "source": [
    "gboost = GradientBoostingClassifier(n_estimators = 150, max_depth = 10, random_state = 142)\n",
    "gboost_model=gboost.fit(X_train, y_train)\n",
    "\n",
    "train_pred = gboost_model.predict(X_train)\n",
    "test_pred = gboost_model.predict(X_test)\n",
    "\n",
    "update_score_card('GradientBoost_train', y_train,train_pred)\n",
    "update_score_card('GradientBoost_test', y_test,test_pred)\n",
    "\n",
    "print(\"TRAIN REPORT:\\n\",classification_report(y_train, train_pred))  \n",
    "print(\"TEST REPORT:\\n\",classification_report(y_test, test_pred))"
   ]
  },
  {
   "cell_type": "markdown",
   "id": "0c221cf6",
   "metadata": {},
   "source": [
    "# XGBoost"
   ]
  },
  {
   "cell_type": "code",
   "execution_count": 93,
   "id": "55d167ce",
   "metadata": {},
   "outputs": [
    {
     "name": "stdout",
     "output_type": "stream",
     "text": [
      "TRAIN REPORT:\n",
      "               precision    recall  f1-score   support\n",
      "\n",
      "           0       0.96      1.00      0.98     18678\n",
      "           1       0.98      0.85      0.91      5322\n",
      "\n",
      "    accuracy                           0.96     24000\n",
      "   macro avg       0.97      0.92      0.94     24000\n",
      "weighted avg       0.96      0.96      0.96     24000\n",
      "\n",
      "TEST REPORT:\n",
      "               precision    recall  f1-score   support\n",
      "\n",
      "           0       0.84      0.93      0.88      4686\n",
      "           1       0.59      0.36      0.45      1314\n",
      "\n",
      "    accuracy                           0.80      6000\n",
      "   macro avg       0.71      0.65      0.66      6000\n",
      "weighted avg       0.78      0.80      0.79      6000\n",
      "\n"
     ]
    }
   ],
   "source": [
    "xgb = XGBClassifier(max_depth = 10, gamma = 1,)\n",
    "xgb_model=xgb.fit(X_train, y_train)\n",
    "\n",
    "train_pred = xgb_model.predict(X_train)\n",
    "test_pred = xgb_model.predict(X_test)\n",
    "\n",
    "update_score_card('XGB_train', y_train,train_pred)\n",
    "update_score_card('XGB_test', y_test,test_pred)\n",
    "\n",
    "print(\"TRAIN REPORT:\\n\",classification_report(y_train, train_pred))  \n",
    "print(\"TEST REPORT:\\n\",classification_report(y_test, test_pred))"
   ]
  },
  {
   "cell_type": "markdown",
   "id": "1271e961",
   "metadata": {},
   "source": [
    "# KNN"
   ]
  },
  {
   "cell_type": "code",
   "execution_count": 94,
   "id": "d8f88638",
   "metadata": {},
   "outputs": [
    {
     "name": "stdout",
     "output_type": "stream",
     "text": [
      "TRAIN REPORT:\n",
      "               precision    recall  f1-score   support\n",
      "\n",
      "           0       0.86      0.95      0.91     18678\n",
      "           1       0.74      0.47      0.57      5322\n",
      "\n",
      "    accuracy                           0.85     24000\n",
      "   macro avg       0.80      0.71      0.74     24000\n",
      "weighted avg       0.84      0.85      0.83     24000\n",
      "\n",
      "TEST REPORT:\n",
      "               precision    recall  f1-score   support\n",
      "\n",
      "           0       0.80      0.88      0.84      4686\n",
      "           1       0.35      0.22      0.27      1314\n",
      "\n",
      "    accuracy                           0.74      6000\n",
      "   macro avg       0.58      0.55      0.56      6000\n",
      "weighted avg       0.70      0.74      0.72      6000\n",
      "\n"
     ]
    }
   ],
   "source": [
    "KNN = KNeighborsClassifier(n_neighbors = 3)\n",
    "knn_model = KNN.fit(X_train,y_train)\n",
    "\n",
    "train_pred = knn_model.predict(X_train)\n",
    "test_pred = knn_model.predict(X_test)\n",
    "\n",
    "update_score_card('KNN_train', y_train,train_pred)\n",
    "update_score_card('KNN_test', y_test,test_pred)\n",
    "\n",
    "print(\"TRAIN REPORT:\\n\",classification_report(y_train, train_pred))  \n",
    "print(\"TEST REPORT:\\n\",classification_report(y_test, test_pred))"
   ]
  },
  {
   "cell_type": "code",
   "execution_count": 95,
   "id": "eb027cb5",
   "metadata": {},
   "outputs": [
    {
     "data": {
      "text/html": [
       "<div>\n",
       "<style scoped>\n",
       "    .dataframe tbody tr th:only-of-type {\n",
       "        vertical-align: middle;\n",
       "    }\n",
       "\n",
       "    .dataframe tbody tr th {\n",
       "        vertical-align: top;\n",
       "    }\n",
       "\n",
       "    .dataframe thead th {\n",
       "        text-align: right;\n",
       "    }\n",
       "</style>\n",
       "<table border=\"1\" class=\"dataframe\">\n",
       "  <thead>\n",
       "    <tr style=\"text-align: right;\">\n",
       "      <th></th>\n",
       "      <th>Model Name</th>\n",
       "      <th>AUC Score</th>\n",
       "      <th>Precision Score</th>\n",
       "      <th>Recall Score</th>\n",
       "      <th>Accuracy Score</th>\n",
       "      <th>f1-score</th>\n",
       "    </tr>\n",
       "  </thead>\n",
       "  <tbody>\n",
       "    <tr>\n",
       "      <th>0</th>\n",
       "      <td>Decision Tree_train</td>\n",
       "      <td>0.996913</td>\n",
       "      <td>0.999433</td>\n",
       "      <td>0.993987</td>\n",
       "      <td>0.998542</td>\n",
       "      <td>0.996703</td>\n",
       "    </tr>\n",
       "    <tr>\n",
       "      <th>1</th>\n",
       "      <td>Decision Tree_test</td>\n",
       "      <td>0.603745</td>\n",
       "      <td>0.371859</td>\n",
       "      <td>0.394216</td>\n",
       "      <td>0.7215</td>\n",
       "      <td>0.382711</td>\n",
       "    </tr>\n",
       "    <tr>\n",
       "      <th>2</th>\n",
       "      <td>RandomForest_train</td>\n",
       "      <td>0.997585</td>\n",
       "      <td>0.997553</td>\n",
       "      <td>0.995866</td>\n",
       "      <td>0.998542</td>\n",
       "      <td>0.996709</td>\n",
       "    </tr>\n",
       "    <tr>\n",
       "      <th>3</th>\n",
       "      <td>RandomForest_test</td>\n",
       "      <td>0.651033</td>\n",
       "      <td>0.611392</td>\n",
       "      <td>0.36758</td>\n",
       "      <td>0.810333</td>\n",
       "      <td>0.459125</td>\n",
       "    </tr>\n",
       "    <tr>\n",
       "      <th>4</th>\n",
       "      <td>AdaBoost_train</td>\n",
       "      <td>0.642049</td>\n",
       "      <td>0.631176</td>\n",
       "      <td>0.340849</td>\n",
       "      <td>0.809667</td>\n",
       "      <td>0.442655</td>\n",
       "    </tr>\n",
       "    <tr>\n",
       "      <th>5</th>\n",
       "      <td>AdaBoost_test</td>\n",
       "      <td>0.637459</td>\n",
       "      <td>0.605479</td>\n",
       "      <td>0.336377</td>\n",
       "      <td>0.806667</td>\n",
       "      <td>0.432485</td>\n",
       "    </tr>\n",
       "    <tr>\n",
       "      <th>6</th>\n",
       "      <td>GradientBoost_train</td>\n",
       "      <td>0.944169</td>\n",
       "      <td>0.995374</td>\n",
       "      <td>0.889515</td>\n",
       "      <td>0.974583</td>\n",
       "      <td>0.939472</td>\n",
       "    </tr>\n",
       "    <tr>\n",
       "      <th>7</th>\n",
       "      <td>GradientBoost_test</td>\n",
       "      <td>0.645015</td>\n",
       "      <td>0.582418</td>\n",
       "      <td>0.363014</td>\n",
       "      <td>0.8035</td>\n",
       "      <td>0.447257</td>\n",
       "    </tr>\n",
       "    <tr>\n",
       "      <th>8</th>\n",
       "      <td>XGB_train</td>\n",
       "      <td>0.921772</td>\n",
       "      <td>0.983431</td>\n",
       "      <td>0.847614</td>\n",
       "      <td>0.963042</td>\n",
       "      <td>0.910485</td>\n",
       "    </tr>\n",
       "    <tr>\n",
       "      <th>9</th>\n",
       "      <td>XGB_test</td>\n",
       "      <td>0.645488</td>\n",
       "      <td>0.587654</td>\n",
       "      <td>0.362253</td>\n",
       "      <td>0.804667</td>\n",
       "      <td>0.448211</td>\n",
       "    </tr>\n",
       "    <tr>\n",
       "      <th>10</th>\n",
       "      <td>KNN_train</td>\n",
       "      <td>0.710657</td>\n",
       "      <td>0.744681</td>\n",
       "      <td>0.46693</td>\n",
       "      <td>0.846292</td>\n",
       "      <td>0.573969</td>\n",
       "    </tr>\n",
       "    <tr>\n",
       "      <th>11</th>\n",
       "      <td>KNN_test</td>\n",
       "      <td>0.553781</td>\n",
       "      <td>0.349941</td>\n",
       "      <td>0.224505</td>\n",
       "      <td>0.738833</td>\n",
       "      <td>0.273528</td>\n",
       "    </tr>\n",
       "  </tbody>\n",
       "</table>\n",
       "</div>"
      ],
      "text/plain": [
       "             Model Name AUC Score Precision Score Recall Score Accuracy Score  \\\n",
       "0   Decision Tree_train  0.996913        0.999433     0.993987       0.998542   \n",
       "1    Decision Tree_test  0.603745        0.371859     0.394216         0.7215   \n",
       "2    RandomForest_train  0.997585        0.997553     0.995866       0.998542   \n",
       "3     RandomForest_test  0.651033        0.611392      0.36758       0.810333   \n",
       "4        AdaBoost_train  0.642049        0.631176     0.340849       0.809667   \n",
       "5         AdaBoost_test  0.637459        0.605479     0.336377       0.806667   \n",
       "6   GradientBoost_train  0.944169        0.995374     0.889515       0.974583   \n",
       "7    GradientBoost_test  0.645015        0.582418     0.363014         0.8035   \n",
       "8             XGB_train  0.921772        0.983431     0.847614       0.963042   \n",
       "9              XGB_test  0.645488        0.587654     0.362253       0.804667   \n",
       "10            KNN_train  0.710657        0.744681      0.46693       0.846292   \n",
       "11             KNN_test  0.553781        0.349941     0.224505       0.738833   \n",
       "\n",
       "    f1-score  \n",
       "0   0.996703  \n",
       "1   0.382711  \n",
       "2   0.996709  \n",
       "3   0.459125  \n",
       "4   0.442655  \n",
       "5   0.432485  \n",
       "6   0.939472  \n",
       "7   0.447257  \n",
       "8   0.910485  \n",
       "9   0.448211  \n",
       "10  0.573969  \n",
       "11  0.273528  "
      ]
     },
     "execution_count": 95,
     "metadata": {},
     "output_type": "execute_result"
    }
   ],
   "source": [
    "score_card"
   ]
  },
  {
   "cell_type": "markdown",
   "id": "87c4763e",
   "metadata": {},
   "source": [
    "# logistic Regression"
   ]
  },
  {
   "cell_type": "code",
   "execution_count": 96,
   "id": "73de34df",
   "metadata": {},
   "outputs": [
    {
     "name": "stdout",
     "output_type": "stream",
     "text": [
      "X_train (24000, 28)\n",
      "X_test (6000, 28)\n",
      "y_train (24000,)\n",
      "y_test (6000,)\n"
     ]
    }
   ],
   "source": [
    "print('X_train',X_train.shape)\n",
    "print('X_test',X_test.shape)\n",
    "print('y_train',y_train.shape)\n",
    "print('y_test',y_test.shape)"
   ]
  },
  {
   "cell_type": "code",
   "execution_count": 97,
   "id": "9e76e5d1",
   "metadata": {},
   "outputs": [],
   "source": [
    "from sklearn.preprocessing import StandardScaler\n",
    "ss=StandardScaler()\n",
    "X_num=['credit_limit','avg_balance','avg_payment','avg_payment','balance_Value','payment_Value']\n",
    "for i in X_num:\n",
    "    X_train[i]=ss.fit_transform(X_train[[i]])\n",
    "    X_test[i]=ss.transform(X_test[[i]])"
   ]
  },
  {
   "cell_type": "code",
   "execution_count": 98,
   "id": "ba1de38e",
   "metadata": {},
   "outputs": [
    {
     "name": "stdout",
     "output_type": "stream",
     "text": [
      "TRAIN REPORT:\n",
      "               precision    recall  f1-score   support\n",
      "\n",
      "           0       0.78      1.00      0.88     18678\n",
      "           1       0.33      0.00      0.00      5322\n",
      "\n",
      "    accuracy                           0.78     24000\n",
      "   macro avg       0.56      0.50      0.44     24000\n",
      "weighted avg       0.68      0.78      0.68     24000\n",
      "\n",
      "TEST REPORT:\n",
      "               precision    recall  f1-score   support\n",
      "\n",
      "           0       0.78      1.00      0.88      4686\n",
      "           1       1.00      0.00      0.00      1314\n",
      "\n",
      "    accuracy                           0.78      6000\n",
      "   macro avg       0.89      0.50      0.44      6000\n",
      "weighted avg       0.83      0.78      0.69      6000\n",
      "\n"
     ]
    }
   ],
   "source": [
    "lg = LogisticRegression()\n",
    "log_model=lg.fit(X_train, y_train)\n",
    "\n",
    "\n",
    "train_pred = log_model.predict(X_train)\n",
    "test_pred = log_model.predict(X_test)\n",
    "\n",
    "update_score_card('LogisticRegression_train', y_train,train_pred)\n",
    "update_score_card('LogisticRegression_test', y_test,test_pred)\n",
    "\n",
    "print(\"TRAIN REPORT:\\n\",classification_report(y_train, train_pred))  \n",
    "print(\"TEST REPORT:\\n\",classification_report(y_test, test_pred))"
   ]
  },
  {
   "cell_type": "code",
   "execution_count": 99,
   "id": "29c22010",
   "metadata": {},
   "outputs": [
    {
     "data": {
      "text/html": [
       "<div>\n",
       "<style scoped>\n",
       "    .dataframe tbody tr th:only-of-type {\n",
       "        vertical-align: middle;\n",
       "    }\n",
       "\n",
       "    .dataframe tbody tr th {\n",
       "        vertical-align: top;\n",
       "    }\n",
       "\n",
       "    .dataframe thead th {\n",
       "        text-align: right;\n",
       "    }\n",
       "</style>\n",
       "<table border=\"1\" class=\"dataframe\">\n",
       "  <thead>\n",
       "    <tr style=\"text-align: right;\">\n",
       "      <th></th>\n",
       "      <th>Model Name</th>\n",
       "      <th>AUC Score</th>\n",
       "      <th>Precision Score</th>\n",
       "      <th>Recall Score</th>\n",
       "      <th>Accuracy Score</th>\n",
       "      <th>f1-score</th>\n",
       "    </tr>\n",
       "  </thead>\n",
       "  <tbody>\n",
       "    <tr>\n",
       "      <th>0</th>\n",
       "      <td>Decision Tree_train</td>\n",
       "      <td>0.996913</td>\n",
       "      <td>0.999433</td>\n",
       "      <td>0.993987</td>\n",
       "      <td>0.998542</td>\n",
       "      <td>0.996703</td>\n",
       "    </tr>\n",
       "    <tr>\n",
       "      <th>1</th>\n",
       "      <td>Decision Tree_test</td>\n",
       "      <td>0.603745</td>\n",
       "      <td>0.371859</td>\n",
       "      <td>0.394216</td>\n",
       "      <td>0.7215</td>\n",
       "      <td>0.382711</td>\n",
       "    </tr>\n",
       "    <tr>\n",
       "      <th>2</th>\n",
       "      <td>RandomForest_train</td>\n",
       "      <td>0.997585</td>\n",
       "      <td>0.997553</td>\n",
       "      <td>0.995866</td>\n",
       "      <td>0.998542</td>\n",
       "      <td>0.996709</td>\n",
       "    </tr>\n",
       "    <tr>\n",
       "      <th>3</th>\n",
       "      <td>RandomForest_test</td>\n",
       "      <td>0.651033</td>\n",
       "      <td>0.611392</td>\n",
       "      <td>0.36758</td>\n",
       "      <td>0.810333</td>\n",
       "      <td>0.459125</td>\n",
       "    </tr>\n",
       "    <tr>\n",
       "      <th>4</th>\n",
       "      <td>AdaBoost_train</td>\n",
       "      <td>0.642049</td>\n",
       "      <td>0.631176</td>\n",
       "      <td>0.340849</td>\n",
       "      <td>0.809667</td>\n",
       "      <td>0.442655</td>\n",
       "    </tr>\n",
       "    <tr>\n",
       "      <th>5</th>\n",
       "      <td>AdaBoost_test</td>\n",
       "      <td>0.637459</td>\n",
       "      <td>0.605479</td>\n",
       "      <td>0.336377</td>\n",
       "      <td>0.806667</td>\n",
       "      <td>0.432485</td>\n",
       "    </tr>\n",
       "    <tr>\n",
       "      <th>6</th>\n",
       "      <td>GradientBoost_train</td>\n",
       "      <td>0.944169</td>\n",
       "      <td>0.995374</td>\n",
       "      <td>0.889515</td>\n",
       "      <td>0.974583</td>\n",
       "      <td>0.939472</td>\n",
       "    </tr>\n",
       "    <tr>\n",
       "      <th>7</th>\n",
       "      <td>GradientBoost_test</td>\n",
       "      <td>0.645015</td>\n",
       "      <td>0.582418</td>\n",
       "      <td>0.363014</td>\n",
       "      <td>0.8035</td>\n",
       "      <td>0.447257</td>\n",
       "    </tr>\n",
       "    <tr>\n",
       "      <th>8</th>\n",
       "      <td>XGB_train</td>\n",
       "      <td>0.921772</td>\n",
       "      <td>0.983431</td>\n",
       "      <td>0.847614</td>\n",
       "      <td>0.963042</td>\n",
       "      <td>0.910485</td>\n",
       "    </tr>\n",
       "    <tr>\n",
       "      <th>9</th>\n",
       "      <td>XGB_test</td>\n",
       "      <td>0.645488</td>\n",
       "      <td>0.587654</td>\n",
       "      <td>0.362253</td>\n",
       "      <td>0.804667</td>\n",
       "      <td>0.448211</td>\n",
       "    </tr>\n",
       "    <tr>\n",
       "      <th>10</th>\n",
       "      <td>KNN_train</td>\n",
       "      <td>0.710657</td>\n",
       "      <td>0.744681</td>\n",
       "      <td>0.46693</td>\n",
       "      <td>0.846292</td>\n",
       "      <td>0.573969</td>\n",
       "    </tr>\n",
       "    <tr>\n",
       "      <th>11</th>\n",
       "      <td>KNN_test</td>\n",
       "      <td>0.553781</td>\n",
       "      <td>0.349941</td>\n",
       "      <td>0.224505</td>\n",
       "      <td>0.738833</td>\n",
       "      <td>0.273528</td>\n",
       "    </tr>\n",
       "    <tr>\n",
       "      <th>12</th>\n",
       "      <td>LogisticRegression_train</td>\n",
       "      <td>0.500081</td>\n",
       "      <td>0.333333</td>\n",
       "      <td>0.000376</td>\n",
       "      <td>0.778167</td>\n",
       "      <td>0.000751</td>\n",
       "    </tr>\n",
       "    <tr>\n",
       "      <th>13</th>\n",
       "      <td>LogisticRegression_test</td>\n",
       "      <td>0.500761</td>\n",
       "      <td>1.0</td>\n",
       "      <td>0.001522</td>\n",
       "      <td>0.781333</td>\n",
       "      <td>0.00304</td>\n",
       "    </tr>\n",
       "  </tbody>\n",
       "</table>\n",
       "</div>"
      ],
      "text/plain": [
       "                  Model Name AUC Score Precision Score Recall Score  \\\n",
       "0        Decision Tree_train  0.996913        0.999433     0.993987   \n",
       "1         Decision Tree_test  0.603745        0.371859     0.394216   \n",
       "2         RandomForest_train  0.997585        0.997553     0.995866   \n",
       "3          RandomForest_test  0.651033        0.611392      0.36758   \n",
       "4             AdaBoost_train  0.642049        0.631176     0.340849   \n",
       "5              AdaBoost_test  0.637459        0.605479     0.336377   \n",
       "6        GradientBoost_train  0.944169        0.995374     0.889515   \n",
       "7         GradientBoost_test  0.645015        0.582418     0.363014   \n",
       "8                  XGB_train  0.921772        0.983431     0.847614   \n",
       "9                   XGB_test  0.645488        0.587654     0.362253   \n",
       "10                 KNN_train  0.710657        0.744681      0.46693   \n",
       "11                  KNN_test  0.553781        0.349941     0.224505   \n",
       "12  LogisticRegression_train  0.500081        0.333333     0.000376   \n",
       "13   LogisticRegression_test  0.500761             1.0     0.001522   \n",
       "\n",
       "   Accuracy Score  f1-score  \n",
       "0        0.998542  0.996703  \n",
       "1          0.7215  0.382711  \n",
       "2        0.998542  0.996709  \n",
       "3        0.810333  0.459125  \n",
       "4        0.809667  0.442655  \n",
       "5        0.806667  0.432485  \n",
       "6        0.974583  0.939472  \n",
       "7          0.8035  0.447257  \n",
       "8        0.963042  0.910485  \n",
       "9        0.804667  0.448211  \n",
       "10       0.846292  0.573969  \n",
       "11       0.738833  0.273528  \n",
       "12       0.778167  0.000751  \n",
       "13       0.781333   0.00304  "
      ]
     },
     "execution_count": 99,
     "metadata": {},
     "output_type": "execute_result"
    }
   ],
   "source": [
    "score_card"
   ]
  },
  {
   "cell_type": "markdown",
   "id": "202f340c",
   "metadata": {},
   "source": [
    "# Final model "
   ]
  },
  {
   "cell_type": "markdown",
   "id": "22222352",
   "metadata": {},
   "source": [
    "## Adaboosting is giving better accuracy "
   ]
  },
  {
   "cell_type": "markdown",
   "id": "b258cc3f",
   "metadata": {},
   "source": [
    "# SMOTE 75%"
   ]
  },
  {
   "cell_type": "code",
   "execution_count": null,
   "id": "1477fd14",
   "metadata": {},
   "outputs": [],
   "source": [
    "sscore_card = pd.DataFrame(columns=['Model Name', 'AUC Score', 'Precision Score', 'Recall Score',\n",
    "                                       'Accuracy Score', 'f1-score'])\n",
    "def update_sscore_card (model, y_test,y_pred):\n",
    "    global sscore_card\n",
    "\n",
    "    sscore_card=sscore_card.append({'Model Name': model,\n",
    "                                    'AUC Score' : metrics.roc_auc_score(y_test, y_pred),\n",
    "                                    'Precision Score': metrics.precision_score(y_test, y_pred),\n",
    "                                    'Recall Score': metrics.recall_score(y_test, y_pred),\n",
    "                                    'Accuracy Score': metrics.accuracy_score(y_test, y_pred),\n",
    "                                    'f1-score': metrics.f1_score(y_test, y_pred)}, \n",
    "                                    ignore_index = True)"
   ]
  },
  {
   "cell_type": "code",
   "execution_count": 100,
   "id": "494b4bd8",
   "metadata": {},
   "outputs": [
    {
     "name": "stdout",
     "output_type": "stream",
     "text": [
      "X_train (24000, 10)\n",
      "X_test (6000, 10)\n",
      "y_train (24000,)\n",
      "y_test (6000,)\n",
      "SMOTE (40887, 10) (40887,)\n"
     ]
    },
    {
     "data": {
      "image/png": "[encoded data removed]",
      "text/plain": [
       "<Figure size 432x288 with 1 Axes>"
      ]
     },
     "metadata": {
      "needs_background": "light"
     },
     "output_type": "display_data"
    }
   ],
   "source": [
    "X=df3.drop(labels='default',axis=1,inplace=False)\n",
    "y=df3['default']\n",
    "\n",
    "X_train, X_test, y_train, y_test = train_test_split(X, y, test_size=0.20, random_state=42)\n",
    "print('X_train',X_train.shape)\n",
    "print('X_test',X_test.shape)\n",
    "print('y_train',y_train.shape)\n",
    "print('y_test',y_test.shape)\n",
    "\n",
    "ros=RandomOverSampler(sampling_strategy=.75)\n",
    "X_ros,y_ros=ros.fit_resample(X,y)\n",
    "print('SMOTE',X_ros.shape,y_ros.shape)\n",
    "sns.countplot(y_ros)\n",
    "plt.title(\"Probability Of Defaulting Payment Next Month\", fontsize=12)\n",
    "plt.show()"
   ]
  },
  {
   "cell_type": "code",
   "execution_count": 101,
   "id": "9fcde9ce",
   "metadata": {},
   "outputs": [
    {
     "name": "stdout",
     "output_type": "stream",
     "text": [
      "X_train (32709, 10)\n",
      "X_test (8178, 10)\n",
      "y_train (32709,)\n",
      "y_test (8178,)\n"
     ]
    }
   ],
   "source": [
    "X_train, X_test, y_train, y_test = train_test_split(X_ros, y_ros, test_size=0.20, random_state=42)\n",
    "print('X_train',X_train.shape)\n",
    "print('X_test',X_test.shape)\n",
    "print('y_train',y_train.shape)\n",
    "print('y_test',y_test.shape)"
   ]
  },
  {
   "cell_type": "code",
   "execution_count": 102,
   "id": "294132b7",
   "metadata": {},
   "outputs": [
    {
     "name": "stdout",
     "output_type": "stream",
     "text": [
      "TRAIN REPORT:\n",
      "               precision    recall  f1-score   support\n",
      "\n",
      "           0       0.74      0.79      0.76     18719\n",
      "           1       0.69      0.62      0.65     13990\n",
      "\n",
      "    accuracy                           0.72     32709\n",
      "   macro avg       0.71      0.71      0.71     32709\n",
      "weighted avg       0.72      0.72      0.72     32709\n",
      "\n",
      "TEST REPORT:\n",
      "               precision    recall  f1-score   support\n",
      "\n",
      "           0       0.74      0.79      0.76      4645\n",
      "           1       0.69      0.63      0.66      3533\n",
      "\n",
      "    accuracy                           0.72      8178\n",
      "   macro avg       0.71      0.71      0.71      8178\n",
      "weighted avg       0.72      0.72      0.72      8178\n",
      "\n"
     ]
    }
   ],
   "source": [
    "adaboost = AdaBoostClassifier(n_estimators = 314, random_state = 42)\n",
    "ada_model=adaboost.fit(X_train, y_train)\n",
    "\n",
    "train_pred = ada_model.predict(X_train)\n",
    "test_pred = ada_model.predict(X_test)\n",
    "update_sscore_card('ADABOOST SMOTE 75%_train', y_train,train_pred)\n",
    "update_sscore_card('ADABOOST SMOTE 75%_test', y_test,test_pred)\n",
    "print(\"TRAIN REPORT:\\n\",classification_report(y_train, train_pred))  \n",
    "print(\"TEST REPORT:\\n\",classification_report(y_test, test_pred))"
   ]
  },
  {
   "cell_type": "code",
   "execution_count": 103,
   "id": "f5ec2eee",
   "metadata": {},
   "outputs": [
    {
     "name": "stdout",
     "output_type": "stream",
     "text": [
      "Best Params:  {'learning_rate': 0.005, 'n_estimators': 110}\n",
      "Best Score:  0.6345961401000715\n"
     ]
    }
   ],
   "source": [
    "from sklearn.model_selection import GridSearchCV\n",
    "grid_search = AdaBoostClassifier()\n",
    "params = { 'n_estimators': [110,120,130],'learning_rate':[0.005,0.05,0.06,.04,0.006]}\n",
    "grid_search = GridSearchCV(\n",
    "    grid_search, \n",
    "    params, \n",
    "    cv=5,\n",
    "    scoring='recall',n_jobs=-1)\n",
    "\n",
    "grid_result= grid_search.fit(X_train, y_train)\n",
    "print('Best Params: ', grid_result.best_params_)\n",
    "print('Best Score: ', grid_result.best_score_)"
   ]
  },
  {
   "cell_type": "markdown",
   "id": "81b194b1",
   "metadata": {},
   "source": [
    "### with all feature"
   ]
  },
  {
   "cell_type": "code",
   "execution_count": 104,
   "id": "26fb50b3",
   "metadata": {},
   "outputs": [
    {
     "name": "stdout",
     "output_type": "stream",
     "text": [
      "X_train (24000, 28)\n",
      "X_test (6000, 28)\n",
      "y_train (24000,)\n",
      "y_test (6000,)\n",
      "SMOTE (40887, 28) (40887,)\n"
     ]
    },
    {
     "data": {
      "image/png": "[encoded data removed]",
      "text/plain": [
       "<Figure size 432x288 with 1 Axes>"
      ]
     },
     "metadata": {
      "needs_background": "light"
     },
     "output_type": "display_data"
    }
   ],
   "source": [
    "X=df2.drop(labels='default',axis=1,inplace=False)\n",
    "y=df2['default']\n",
    "\n",
    "X_train, X_test, y_train, y_test = train_test_split(X, y, test_size=0.20, random_state=42)\n",
    "print('X_train',X_train.shape)\n",
    "print('X_test',X_test.shape)\n",
    "print('y_train',y_train.shape)\n",
    "print('y_test',y_test.shape)\n",
    "\n",
    "ros=RandomOverSampler(sampling_strategy=.75)\n",
    "X_ros,y_ros=ros.fit_resample(X,y)\n",
    "print('SMOTE',X_ros.shape,y_ros.shape)\n",
    "sns.countplot(y_ros)\n",
    "plt.title(\"Probability Of Defaulting Payment Next Month\", fontsize=12)\n",
    "plt.show()"
   ]
  },
  {
   "cell_type": "code",
   "execution_count": 105,
   "id": "dbe08d89",
   "metadata": {},
   "outputs": [
    {
     "name": "stdout",
     "output_type": "stream",
     "text": [
      "X_train (32709, 28)\n",
      "X_test (8178, 28)\n",
      "y_train (32709,)\n",
      "y_test (8178,)\n"
     ]
    }
   ],
   "source": [
    "X_train, X_test, y_train, y_test = train_test_split(X_ros, y_ros, test_size=0.20, random_state=42)\n",
    "print('X_train',X_train.shape)\n",
    "print('X_test',X_test.shape)\n",
    "print('y_train',y_train.shape)\n",
    "print('y_test',y_test.shape)"
   ]
  },
  {
   "cell_type": "code",
   "execution_count": 106,
   "id": "0cc79eea",
   "metadata": {},
   "outputs": [
    {
     "name": "stdout",
     "output_type": "stream",
     "text": [
      "TRAIN REPORT:\n",
      "               precision    recall  f1-score   support\n",
      "\n",
      "           0       0.74      0.84      0.78     18719\n",
      "           1       0.73      0.60      0.66     13990\n",
      "\n",
      "    accuracy                           0.73     32709\n",
      "   macro avg       0.73      0.72      0.72     32709\n",
      "weighted avg       0.73      0.73      0.73     32709\n",
      "\n",
      "TEST REPORT:\n",
      "               precision    recall  f1-score   support\n",
      "\n",
      "           0       0.73      0.82      0.77      4645\n",
      "           1       0.72      0.60      0.65      3533\n",
      "\n",
      "    accuracy                           0.73      8178\n",
      "   macro avg       0.73      0.71      0.71      8178\n",
      "weighted avg       0.73      0.73      0.72      8178\n",
      "\n"
     ]
    }
   ],
   "source": [
    "adaboost = AdaBoostClassifier(n_estimators = 314, random_state = 42)\n",
    "ada_model=adaboost.fit(X_train, y_train)\n",
    "\n",
    "train_pred = ada_model.predict(X_train)\n",
    "test_pred = ada_model.predict(X_test)\n",
    "\n",
    "print(\"TRAIN REPORT:\\n\",classification_report(y_train, train_pred))  \n",
    "print(\"TEST REPORT:\\n\",classification_report(y_test, test_pred))"
   ]
  },
  {
   "cell_type": "markdown",
   "id": "fa3dd8e0",
   "metadata": {},
   "source": [
    "# SMOTE 100%"
   ]
  },
  {
   "cell_type": "code",
   "execution_count": 107,
   "id": "c7133d80",
   "metadata": {},
   "outputs": [
    {
     "name": "stdout",
     "output_type": "stream",
     "text": [
      "X_train (24000, 10)\n",
      "X_test (6000, 10)\n",
      "y_train (24000,)\n",
      "y_test (6000,)\n",
      "SMOTE (46728, 10) (46728,)\n"
     ]
    },
    {
     "data": {
      "image/png": "[encoded data removed]",
      "text/plain": [
       "<Figure size 432x288 with 1 Axes>"
      ]
     },
     "metadata": {
      "needs_background": "light"
     },
     "output_type": "display_data"
    }
   ],
   "source": [
    "X=df3.drop(labels='default',axis=1,inplace=False)\n",
    "y=df3['default']\n",
    "\n",
    "X_train, X_test, y_train, y_test = train_test_split(X, y, test_size=0.20, random_state=42)\n",
    "print('X_train',X_train.shape)\n",
    "print('X_test',X_test.shape)\n",
    "print('y_train',y_train.shape)\n",
    "print('y_test',y_test.shape)\n",
    "\n",
    "ros=RandomOverSampler(sampling_strategy=1)\n",
    "X_ros,y_ros=ros.fit_resample(X,y)\n",
    "print('SMOTE',X_ros.shape,y_ros.shape)\n",
    "sns.countplot(y_ros)\n",
    "plt.title(\"Probability Of Defaulting Payment Next Month\", fontsize=12)\n",
    "plt.show()"
   ]
  },
  {
   "cell_type": "code",
   "execution_count": 108,
   "id": "e156b062",
   "metadata": {},
   "outputs": [
    {
     "name": "stdout",
     "output_type": "stream",
     "text": [
      "X_train (37382, 10)\n",
      "X_test (9346, 10)\n",
      "y_train (37382,)\n",
      "y_test (9346,)\n"
     ]
    }
   ],
   "source": [
    "X_train, X_test, y_train, y_test = train_test_split(X_ros, y_ros, test_size=0.20, random_state=42)\n",
    "print('X_train',X_train.shape)\n",
    "print('X_test',X_test.shape)\n",
    "print('y_train',y_train.shape)\n",
    "print('y_test',y_test.shape)"
   ]
  },
  {
   "cell_type": "code",
   "execution_count": 109,
   "id": "3725a9bb",
   "metadata": {},
   "outputs": [
    {
     "name": "stdout",
     "output_type": "stream",
     "text": [
      "TRAIN REPORT:\n",
      "               precision    recall  f1-score   support\n",
      "\n",
      "           0       0.69      0.76      0.72     18698\n",
      "           1       0.73      0.65      0.69     18684\n",
      "\n",
      "    accuracy                           0.71     37382\n",
      "   macro avg       0.71      0.71      0.71     37382\n",
      "weighted avg       0.71      0.71      0.71     37382\n",
      "\n",
      "TEST REPORT:\n",
      "               precision    recall  f1-score   support\n",
      "\n",
      "           0       0.69      0.76      0.72      4666\n",
      "           1       0.73      0.66      0.69      4680\n",
      "\n",
      "    accuracy                           0.71      9346\n",
      "   macro avg       0.71      0.71      0.71      9346\n",
      "weighted avg       0.71      0.71      0.71      9346\n",
      "\n"
     ]
    }
   ],
   "source": [
    "adaboost = AdaBoostClassifier(n_estimators = 314, random_state = 42)\n",
    "ada_model=adaboost.fit(X_train, y_train)\n",
    "\n",
    "train_pred = ada_model.predict(X_train)\n",
    "test_pred = ada_model.predict(X_test)\n",
    "update_sscore_card('ADABOOST SMOTE 100%_train', y_train,train_pred)\n",
    "update_sscore_card('ADABOOST SMOTE 100%_test', y_test,test_pred)\n",
    "print(\"TRAIN REPORT:\\n\",classification_report(y_train, train_pred))  \n",
    "print(\"TEST REPORT:\\n\",classification_report(y_test, test_pred))"
   ]
  },
  {
   "cell_type": "markdown",
   "id": "7140b62e",
   "metadata": {},
   "source": [
    "### with all feature"
   ]
  },
  {
   "cell_type": "code",
   "execution_count": 110,
   "id": "df325b38",
   "metadata": {},
   "outputs": [
    {
     "name": "stdout",
     "output_type": "stream",
     "text": [
      "X_train (24000, 28)\n",
      "X_test (6000, 28)\n",
      "y_train (24000,)\n",
      "y_test (6000,)\n",
      "SMOTE (46728, 28) (46728,)\n"
     ]
    },
    {
     "data": {
      "image/png": "[encoded data removed]",
      "text/plain": [
       "<Figure size 432x288 with 1 Axes>"
      ]
     },
     "metadata": {
      "needs_background": "light"
     },
     "output_type": "display_data"
    }
   ],
   "source": [
    "X=df2.drop(labels='default',axis=1,inplace=False)\n",
    "y=df2['default']\n",
    "\n",
    "X_train, X_test, y_train, y_test = train_test_split(X, y, test_size=0.20, random_state=42)\n",
    "print('X_train',X_train.shape)\n",
    "print('X_test',X_test.shape)\n",
    "print('y_train',y_train.shape)\n",
    "print('y_test',y_test.shape)\n",
    "\n",
    "ros=RandomOverSampler(sampling_strategy=1)\n",
    "X_ros,y_ros=ros.fit_resample(X,y)\n",
    "print('SMOTE',X_ros.shape,y_ros.shape)\n",
    "sns.countplot(y_ros)\n",
    "plt.title(\"Probability Of Defaulting Payment Next Month\", fontsize=12)\n",
    "plt.show()"
   ]
  },
  {
   "cell_type": "code",
   "execution_count": 111,
   "id": "2b9ee50c",
   "metadata": {},
   "outputs": [
    {
     "name": "stdout",
     "output_type": "stream",
     "text": [
      "X_train (37382, 28)\n",
      "X_test (9346, 28)\n",
      "y_train (37382,)\n",
      "y_test (9346,)\n"
     ]
    }
   ],
   "source": [
    "X_train, X_test, y_train, y_test = train_test_split(X_ros, y_ros, test_size=0.20, random_state=42)\n",
    "print('X_train',X_train.shape)\n",
    "print('X_test',X_test.shape)\n",
    "print('y_train',y_train.shape)\n",
    "print('y_test',y_test.shape)"
   ]
  },
  {
   "cell_type": "code",
   "execution_count": 112,
   "id": "e5dc2102",
   "metadata": {},
   "outputs": [
    {
     "name": "stdout",
     "output_type": "stream",
     "text": [
      "TRAIN REPORT:\n",
      "               precision    recall  f1-score   support\n",
      "\n",
      "           0       0.69      0.78      0.73     18698\n",
      "           1       0.75      0.64      0.69     18684\n",
      "\n",
      "    accuracy                           0.71     37382\n",
      "   macro avg       0.72      0.71      0.71     37382\n",
      "weighted avg       0.72      0.71      0.71     37382\n",
      "\n",
      "TEST REPORT:\n",
      "               precision    recall  f1-score   support\n",
      "\n",
      "           0       0.68      0.78      0.73      4666\n",
      "           1       0.74      0.63      0.68      4680\n",
      "\n",
      "    accuracy                           0.71      9346\n",
      "   macro avg       0.71      0.71      0.70      9346\n",
      "weighted avg       0.71      0.71      0.70      9346\n",
      "\n"
     ]
    }
   ],
   "source": [
    "adaboost = AdaBoostClassifier(n_estimators = 110, random_state = 42)\n",
    "ada_model=adaboost.fit(X_train, y_train)\n",
    "\n",
    "train_pred = ada_model.predict(X_train)\n",
    "test_pred = ada_model.predict(X_test)\n",
    "\n",
    "print(\"TRAIN REPORT:\\n\",classification_report(y_train, train_pred))  \n",
    "print(\"TEST REPORT:\\n\",classification_report(y_test, test_pred))"
   ]
  },
  {
   "cell_type": "code",
   "execution_count": 113,
   "id": "299ec0fa",
   "metadata": {},
   "outputs": [
    {
     "name": "stdout",
     "output_type": "stream",
     "text": [
      "X_train (24000, 10)\n",
      "X_test (6000, 10)\n",
      "y_train (24000,)\n",
      "y_test (6000,)\n",
      "SMOTE (42055, 10) (42055,)\n"
     ]
    },
    {
     "data": {
      "image/png": "[encoded data removed]",
      "text/plain": [
       "<Figure size 432x288 with 1 Axes>"
      ]
     },
     "metadata": {
      "needs_background": "light"
     },
     "output_type": "display_data"
    }
   ],
   "source": [
    "X=df3.drop(labels='default',axis=1,inplace=False)\n",
    "y=df3['default']\n",
    "\n",
    "X_train, X_test, y_train, y_test = train_test_split(X, y, test_size=0.20, random_state=42)\n",
    "print('X_train',X_train.shape)\n",
    "print('X_test',X_test.shape)\n",
    "print('y_train',y_train.shape)\n",
    "print('y_test',y_test.shape)\n",
    "\n",
    "ros=RandomOverSampler(sampling_strategy=.80)\n",
    "X_ros,y_ros=ros.fit_resample(X,y)\n",
    "print('SMOTE',X_ros.shape,y_ros.shape)\n",
    "sns.countplot(y_ros)\n",
    "plt.title(\"Probability Of Defaulting Payment Next Month\", fontsize=12)\n",
    "plt.show()"
   ]
  },
  {
   "cell_type": "code",
   "execution_count": 114,
   "id": "fa98d110",
   "metadata": {},
   "outputs": [
    {
     "name": "stdout",
     "output_type": "stream",
     "text": [
      "X_train (33644, 10)\n",
      "X_test (8411, 10)\n",
      "y_train (33644,)\n",
      "y_test (8411,)\n"
     ]
    }
   ],
   "source": [
    "X_train, X_test, y_train, y_test = train_test_split(X_ros, y_ros, test_size=0.20, random_state=42)\n",
    "print('X_train',X_train.shape)\n",
    "print('X_test',X_test.shape)\n",
    "print('y_train',y_train.shape)\n",
    "print('y_test',y_test.shape)"
   ]
  },
  {
   "cell_type": "code",
   "execution_count": 115,
   "id": "7604c579",
   "metadata": {},
   "outputs": [
    {
     "name": "stdout",
     "output_type": "stream",
     "text": [
      "TRAIN REPORT:\n",
      "               precision    recall  f1-score   support\n",
      "\n",
      "           0       0.73      0.78      0.76     18714\n",
      "           1       0.70      0.63      0.67     14930\n",
      "\n",
      "    accuracy                           0.72     33644\n",
      "   macro avg       0.71      0.71      0.71     33644\n",
      "weighted avg       0.72      0.72      0.72     33644\n",
      "\n",
      "TEST REPORT:\n",
      "               precision    recall  f1-score   support\n",
      "\n",
      "           0       0.72      0.78      0.75      4650\n",
      "           1       0.70      0.63      0.66      3761\n",
      "\n",
      "    accuracy                           0.71      8411\n",
      "   macro avg       0.71      0.70      0.71      8411\n",
      "weighted avg       0.71      0.71      0.71      8411\n",
      "\n"
     ]
    }
   ],
   "source": [
    "gboost = AdaBoostClassifier(n_estimators = 150, random_state = 42)\n",
    "gboost_model=gboost.fit(X_train, y_train)\n",
    "\n",
    "train_pred = gboost_model.predict(X_train)\n",
    "test_pred = gboost_model.predict(X_test)\n",
    "\n",
    "update_score_card('GradientBoost_train', y_train,train_pred)\n",
    "update_score_card('GradientBoost_test', y_test,test_pred)\n",
    "\n",
    "print(\"TRAIN REPORT:\\n\",classification_report(y_train, train_pred))  \n",
    "print(\"TEST REPORT:\\n\",classification_report(y_test, test_pred))"
   ]
  },
  {
   "cell_type": "code",
   "execution_count": 116,
   "id": "94ca5378",
   "metadata": {},
   "outputs": [
    {
     "name": "stdout",
     "output_type": "stream",
     "text": [
      "Best Params:  {'learning_rate': 0.005, 'n_estimators': 110}\n",
      "Best Score:  0.6397856664434026\n"
     ]
    }
   ],
   "source": [
    "from sklearn.model_selection import GridSearchCV\n",
    "grid_search = AdaBoostClassifier()\n",
    "params = { 'n_estimators': [110,120,130],'learning_rate':[0.005,0.05,0.06,.04,0.006]}\n",
    "grid_search = GridSearchCV(\n",
    "    grid_search, \n",
    "    params, \n",
    "    cv=5,\n",
    "    scoring='recall',n_jobs=-1)\n",
    "\n",
    "grid_result= grid_search.fit(X_train, y_train)\n",
    "print('Best Params: ', grid_result.best_params_)\n",
    "print('Best Score: ', grid_result.best_score_)"
   ]
  },
  {
   "cell_type": "code",
   "execution_count": 117,
   "id": "f8e03328",
   "metadata": {},
   "outputs": [
    {
     "name": "stdout",
     "output_type": "stream",
     "text": [
      "TRAIN REPORT:\n",
      "               precision    recall  f1-score   support\n",
      "\n",
      "           0       0.73      0.77      0.75     18714\n",
      "           1       0.69      0.64      0.66     14930\n",
      "\n",
      "    accuracy                           0.71     33644\n",
      "   macro avg       0.71      0.71      0.71     33644\n",
      "weighted avg       0.71      0.71      0.71     33644\n",
      "\n",
      "TEST REPORT:\n",
      "               precision    recall  f1-score   support\n",
      "\n",
      "           0       0.72      0.77      0.75      4650\n",
      "           1       0.69      0.64      0.66      3761\n",
      "\n",
      "    accuracy                           0.71      8411\n",
      "   macro avg       0.71      0.70      0.71      8411\n",
      "weighted avg       0.71      0.71      0.71      8411\n",
      "\n"
     ]
    }
   ],
   "source": [
    "gboost = AdaBoostClassifier(n_estimators = 110, random_state = 42,learning_rate=0.005)\n",
    "gboost_model=gboost.fit(X_train, y_train)\n",
    "\n",
    "train_pred = gboost_model.predict(X_train)\n",
    "test_pred = gboost_model.predict(X_test)\n",
    "\n",
    "update_score_card('GradientBoost_train', y_train,train_pred)\n",
    "update_score_card('GradientBoost_test', y_test,test_pred)\n",
    "\n",
    "print(\"TRAIN REPORT:\\n\",classification_report(y_train, train_pred))  \n",
    "print(\"TEST REPORT:\\n\",classification_report(y_test, test_pred))"
   ]
  },
  {
   "cell_type": "code",
   "execution_count": 118,
   "id": "d4b93138",
   "metadata": {},
   "outputs": [],
   "source": [
    "model_1=RandomForestClassifier(random_state=1)\n",
    "model_2=XGBClassifier(random_state=10)\n",
    "model_3=KNeighborsClassifier(n_neighbors=10,p=2,metric='minkowski')\n",
    "last=LogisticRegression()"
   ]
  },
  {
   "cell_type": "code",
   "execution_count": 119,
   "id": "996e1e67",
   "metadata": {},
   "outputs": [],
   "source": [
    "# pip install mlxtend"
   ]
  },
  {
   "cell_type": "code",
   "execution_count": 124,
   "id": "7626918d",
   "metadata": {},
   "outputs": [],
   "source": [
    "from mlxtend.classifier import StackingClassifier\n",
    "stack=StackingClassifier(classifiers=[model_1,model_2,model_3],meta_classifier=last)"
   ]
  },
  {
   "cell_type": "code",
   "execution_count": 125,
   "id": "54d3dccb",
   "metadata": {},
   "outputs": [],
   "source": [
    "stack_model=stack.fit(X_train, y_train)"
   ]
  },
  {
   "cell_type": "code",
   "execution_count": 127,
   "id": "5fe45246",
   "metadata": {},
   "outputs": [],
   "source": [
    "train_pred = stack_model.predict(X_train)\n",
    "test_pred =stack_model.predict(X_test)"
   ]
  },
  {
   "cell_type": "code",
   "execution_count": 128,
   "id": "714ab91f",
   "metadata": {
    "scrolled": true
   },
   "outputs": [
    {
     "name": "stdout",
     "output_type": "stream",
     "text": [
      "TRAIN REPORT:\n",
      "               precision    recall  f1-score   support\n",
      "\n",
      "           0       1.00      1.00      1.00     18714\n",
      "           1       1.00      1.00      1.00     14930\n",
      "\n",
      "    accuracy                           1.00     33644\n",
      "   macro avg       1.00      1.00      1.00     33644\n",
      "weighted avg       1.00      1.00      1.00     33644\n",
      "\n",
      "TEST REPORT:\n",
      "               precision    recall  f1-score   support\n",
      "\n",
      "           0       0.94      0.86      0.90      4650\n",
      "           1       0.84      0.93      0.88      3761\n",
      "\n",
      "    accuracy                           0.89      8411\n",
      "   macro avg       0.89      0.89      0.89      8411\n",
      "weighted avg       0.89      0.89      0.89      8411\n",
      "\n"
     ]
    }
   ],
   "source": [
    "print(\"TRAIN REPORT:\\n\",classification_report(y_train, train_pred))  \n",
    "print(\"TEST REPORT:\\n\",classification_report(y_test, test_pred))"
   ]
  },
  {
   "cell_type": "code",
   "execution_count": 132,
   "id": "b038ed87",
   "metadata": {},
   "outputs": [
    {
     "data": {
      "image/png": "[encoded data removed]",
      "text/plain": [
       "<Figure size 432x288 with 2 Axes>"
      ]
     },
     "metadata": {
      "needs_background": "light"
     },
     "output_type": "display_data"
    }
   ],
   "source": [
    "cm= confusion_matrix(y_train,train_pred)\n",
    "matrix=pd.DataFrame(cm,index=['Actual:0','Actual:1'],columns=['Predict:0','Predict:1'])\n",
    "sns.heatmap(matrix,annot=True,fmt='d');"
   ]
  },
  {
   "cell_type": "code",
   "execution_count": 136,
   "id": "2a4fdea5",
   "metadata": {},
   "outputs": [],
   "source": [
    "# define a function to plot the ROC curve and print the ROC-AUC score\n",
    "from sklearn.metrics import roc_auc_score,roc_curve,confusion_matrix\n",
    "def plot_roc(model, test_data):\n",
    "    \n",
    "    # predict the probability of target variable using X_test\n",
    "    # consider the probability of positive class by subsetting with '[:,1]'\n",
    "    yp_prob = model.predict_proba(test_data)[:,1]\n",
    "    \n",
    "    # the roc_curve() returns the values for false positive rate, true positive rate and threshold\n",
    "    # pass the actual target values and predicted probabilities to the function\n",
    "    fpr, tpr, thresholds = roc_curve(y_test, yp_prob)\n",
    "\n",
    "    # plot the ROC curve\n",
    "    plt.plot(fpr, tpr)\n",
    "\n",
    "    # set limits for x and y axes\n",
    "    plt.xlim([0.0, 1.0])\n",
    "    plt.ylim([0.0, 1.0])\n",
    "\n",
    "    # plot the straight line showing worst prediction for the model\n",
    "    plt.plot([0, 1], [0, 1],'r--')\n",
    "\n",
    "    # add plot and axes labels\n",
    "    # set text size using 'fontsize'\n",
    "    plt.title('ROC CURVE FOR CREDIT DEFAULT CLASSIFIER:', fontsize = 15)\n",
    "    plt.xlabel('False positive rate (1-Specificity)', fontsize = 15)\n",
    "    plt.ylabel('True positive rate (Sensitivity)', fontsize = 15)\n",
    "\n",
    "    # add the AUC score to the plot\n",
    "    # 'x' and 'y' gives position of the text\n",
    "    # 's' is the text \n",
    "    # use round() to round-off the AUC score upto 4 digits\n",
    "    plt.text(x = 0.02, y = 0.9, s = ('AUC Score:',round(roc_auc_score(y_test, yp_prob),4)))\n",
    "\n",
    "    # plot the grid\n",
    "    plt.grid(True)"
   ]
  },
  {
   "cell_type": "code",
   "execution_count": 137,
   "id": "786476b6",
   "metadata": {},
   "outputs": [
    {
     "name": "stdout",
     "output_type": "stream",
     "text": [
      "STACK CLASSIFIER (FINAL)[SMOTE]:\n"
     ]
    },
    {
     "data": {
      "image/png": "[encoded data removed]",
      "text/plain": [
       "<Figure size 432x288 with 1 Axes>"
      ]
     },
     "metadata": {
      "needs_background": "light"
     },
     "output_type": "display_data"
    }
   ],
   "source": [
    "plot_roc(stack, test_data=X_test)\n",
    "print(\"STACK CLASSIFIER (FINAL)[SMOTE]:\")"
   ]
  }
 ],
 "metadata": {
  "kernelspec": {
   "display_name": "Python 3 (ipykernel)",
   "language": "python",
   "name": "python3"
  },
  "language_info": {
   "codemirror_mode": {
    "name": "ipython",
    "version": 3
   },
   "file_extension": ".py",
   "mimetype": "text/x-python",
   "name": "python",
   "nbconvert_exporter": "python",
   "pygments_lexer": "ipython3",
   "version": "3.9.12"
  }
 },
 "nbformat": 4,
 "nbformat_minor": 5
}
